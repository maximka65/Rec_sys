{
 "cells": [
  {
   "cell_type": "markdown",
   "metadata": {},
   "source": [
    "### структура модели\n",
    "\n",
    "Отбираем  *кандидатов* с помощью простой модели (als) --> переранжируем их сложной моделью (lightgbm)\n",
    "и выберем top-k (5).\n"
   ]
  },
  {
   "cell_type": "code",
   "execution_count": 176,
   "metadata": {},
   "outputs": [],
   "source": [
    "import pandas as pd\n",
    "import numpy as np\n",
    "import matplotlib.pyplot as plt\n",
    "%matplotlib inline\n",
    "\n",
    "import warnings\n",
    "warnings.filterwarnings('ignore')\n",
    "\n",
    "# Для работы с матрицами\n",
    "from scipy.sparse import csr_matrix, coo_matrix\n",
    "\n",
    "# Матричная факторизация\n",
    "from implicit import als\n",
    "\n",
    "# Матричная факторизация\n",
    "#from implicit.als import AlternatingLeastSquares\n",
    "#from implicit.nearest_neighbours import bm25_weight, tfidf_weight\n",
    "\n",
    "# Модель второго уровня\n",
    "from lightgbm import LGBMClassifier\n",
    "\n",
    "import os, sys\n",
    "module_path = os.path.abspath(os.path.join(os.pardir))\n",
    "if module_path not in sys.path:\n",
    "    sys.path.append(module_path)\n",
    "\n",
    "# Написанные нами функции\n",
    "from src_right.utils import prefilter_items\n",
    "from src_right.metrics import recall_at_k, precision_at_k\n",
    "from src_right.recommenders import MainRecommender"
   ]
  },
  {
   "cell_type": "code",
   "execution_count": 123,
   "metadata": {},
   "outputs": [],
   "source": [
    "data = pd.read_csv('data/retail_train.csv')\n",
    "item_features = pd.read_csv('data/product.csv')\n",
    "user_features = pd.read_csv('data/hh_demographic.csv')\n",
    "\n",
    "# column processing\n",
    "item_features.columns = [col.lower() for col in item_features.columns]\n",
    "user_features.columns = [col.lower() for col in user_features.columns]\n",
    "\n",
    "item_features.rename(columns={'product_id': 'item_id'}, inplace=True)\n",
    "user_features.rename(columns={'household_key': 'user_id'}, inplace=True)"
   ]
  },
  {
   "cell_type": "markdown",
   "metadata": {},
   "source": [
    "# Предобработка данных"
   ]
  },
  {
   "cell_type": "markdown",
   "metadata": {},
   "source": [
    "1) Обработаем классовые фичи\n",
    "    - Для фичь где классы линейно связанны, переведем их в int.\n",
    "    - Для остальных переведем в dummy переменные\n",
    "    \n",
    "Для того чтоб модель могла использовать максимально количество инфы о зависимостях."
   ]
  },
  {
   "cell_type": "code",
   "execution_count": 124,
   "metadata": {},
   "outputs": [
    {
     "data": {
      "text/html": [
       "<div>\n",
       "<style scoped>\n",
       "    .dataframe tbody tr th:only-of-type {\n",
       "        vertical-align: middle;\n",
       "    }\n",
       "\n",
       "    .dataframe tbody tr th {\n",
       "        vertical-align: top;\n",
       "    }\n",
       "\n",
       "    .dataframe thead th {\n",
       "        text-align: right;\n",
       "    }\n",
       "</style>\n",
       "<table border=\"1\" class=\"dataframe\">\n",
       "  <thead>\n",
       "    <tr style=\"text-align: right;\">\n",
       "      <th></th>\n",
       "      <th>age_desc</th>\n",
       "      <th>marital_status_code</th>\n",
       "      <th>income_desc</th>\n",
       "      <th>homeowner_desc</th>\n",
       "      <th>hh_comp_desc</th>\n",
       "      <th>household_size_desc</th>\n",
       "      <th>kid_category_desc</th>\n",
       "      <th>user_id</th>\n",
       "    </tr>\n",
       "  </thead>\n",
       "  <tbody>\n",
       "    <tr>\n",
       "      <th>0</th>\n",
       "      <td>65+</td>\n",
       "      <td>A</td>\n",
       "      <td>35-49K</td>\n",
       "      <td>Homeowner</td>\n",
       "      <td>2 Adults No Kids</td>\n",
       "      <td>2</td>\n",
       "      <td>None/Unknown</td>\n",
       "      <td>1</td>\n",
       "    </tr>\n",
       "    <tr>\n",
       "      <th>1</th>\n",
       "      <td>45-54</td>\n",
       "      <td>A</td>\n",
       "      <td>50-74K</td>\n",
       "      <td>Homeowner</td>\n",
       "      <td>2 Adults No Kids</td>\n",
       "      <td>2</td>\n",
       "      <td>None/Unknown</td>\n",
       "      <td>7</td>\n",
       "    </tr>\n",
       "    <tr>\n",
       "      <th>2</th>\n",
       "      <td>25-34</td>\n",
       "      <td>U</td>\n",
       "      <td>25-34K</td>\n",
       "      <td>Unknown</td>\n",
       "      <td>2 Adults Kids</td>\n",
       "      <td>3</td>\n",
       "      <td>1</td>\n",
       "      <td>8</td>\n",
       "    </tr>\n",
       "    <tr>\n",
       "      <th>3</th>\n",
       "      <td>25-34</td>\n",
       "      <td>U</td>\n",
       "      <td>75-99K</td>\n",
       "      <td>Homeowner</td>\n",
       "      <td>2 Adults Kids</td>\n",
       "      <td>4</td>\n",
       "      <td>2</td>\n",
       "      <td>13</td>\n",
       "    </tr>\n",
       "    <tr>\n",
       "      <th>4</th>\n",
       "      <td>45-54</td>\n",
       "      <td>B</td>\n",
       "      <td>50-74K</td>\n",
       "      <td>Homeowner</td>\n",
       "      <td>Single Female</td>\n",
       "      <td>1</td>\n",
       "      <td>None/Unknown</td>\n",
       "      <td>16</td>\n",
       "    </tr>\n",
       "  </tbody>\n",
       "</table>\n",
       "</div>"
      ],
      "text/plain": [
       "  age_desc marital_status_code income_desc homeowner_desc      hh_comp_desc  \\\n",
       "0      65+                   A      35-49K      Homeowner  2 Adults No Kids   \n",
       "1    45-54                   A      50-74K      Homeowner  2 Adults No Kids   \n",
       "2    25-34                   U      25-34K        Unknown     2 Adults Kids   \n",
       "3    25-34                   U      75-99K      Homeowner     2 Adults Kids   \n",
       "4    45-54                   B      50-74K      Homeowner     Single Female   \n",
       "\n",
       "  household_size_desc kid_category_desc  user_id  \n",
       "0                   2      None/Unknown        1  \n",
       "1                   2      None/Unknown        7  \n",
       "2                   3                 1        8  \n",
       "3                   4                 2       13  \n",
       "4                   1      None/Unknown       16  "
      ]
     },
     "execution_count": 124,
     "metadata": {},
     "output_type": "execute_result"
    }
   ],
   "source": [
    "user_features.head()"
   ]
  },
  {
   "cell_type": "markdown",
   "metadata": {},
   "source": [
    "Соберем фичи для get_dummies"
   ]
  },
  {
   "cell_type": "code",
   "execution_count": 125,
   "metadata": {},
   "outputs": [],
   "source": [
    "dummies_features = ['marital_status_code', 'homeowner_desc', 'hh_comp_desc']"
   ]
  },
  {
   "cell_type": "code",
   "execution_count": 126,
   "metadata": {},
   "outputs": [],
   "source": [
    "user_features = pd.get_dummies(user_features, columns=dummies_features)"
   ]
  },
  {
   "cell_type": "code",
   "execution_count": 127,
   "metadata": {},
   "outputs": [
    {
     "data": {
      "text/html": [
       "<div>\n",
       "<style scoped>\n",
       "    .dataframe tbody tr th:only-of-type {\n",
       "        vertical-align: middle;\n",
       "    }\n",
       "\n",
       "    .dataframe tbody tr th {\n",
       "        vertical-align: top;\n",
       "    }\n",
       "\n",
       "    .dataframe thead th {\n",
       "        text-align: right;\n",
       "    }\n",
       "</style>\n",
       "<table border=\"1\" class=\"dataframe\">\n",
       "  <thead>\n",
       "    <tr style=\"text-align: right;\">\n",
       "      <th></th>\n",
       "      <th>age_desc</th>\n",
       "      <th>income_desc</th>\n",
       "      <th>household_size_desc</th>\n",
       "      <th>kid_category_desc</th>\n",
       "      <th>user_id</th>\n",
       "      <th>marital_status_code_A</th>\n",
       "      <th>marital_status_code_B</th>\n",
       "      <th>marital_status_code_U</th>\n",
       "      <th>homeowner_desc_Homeowner</th>\n",
       "      <th>homeowner_desc_Probable Owner</th>\n",
       "      <th>homeowner_desc_Probable Renter</th>\n",
       "      <th>homeowner_desc_Renter</th>\n",
       "      <th>homeowner_desc_Unknown</th>\n",
       "      <th>hh_comp_desc_1 Adult Kids</th>\n",
       "      <th>hh_comp_desc_2 Adults Kids</th>\n",
       "      <th>hh_comp_desc_2 Adults No Kids</th>\n",
       "      <th>hh_comp_desc_Single Female</th>\n",
       "      <th>hh_comp_desc_Single Male</th>\n",
       "      <th>hh_comp_desc_Unknown</th>\n",
       "    </tr>\n",
       "  </thead>\n",
       "  <tbody>\n",
       "    <tr>\n",
       "      <th>0</th>\n",
       "      <td>65+</td>\n",
       "      <td>35-49K</td>\n",
       "      <td>2</td>\n",
       "      <td>None/Unknown</td>\n",
       "      <td>1</td>\n",
       "      <td>1</td>\n",
       "      <td>0</td>\n",
       "      <td>0</td>\n",
       "      <td>1</td>\n",
       "      <td>0</td>\n",
       "      <td>0</td>\n",
       "      <td>0</td>\n",
       "      <td>0</td>\n",
       "      <td>0</td>\n",
       "      <td>0</td>\n",
       "      <td>1</td>\n",
       "      <td>0</td>\n",
       "      <td>0</td>\n",
       "      <td>0</td>\n",
       "    </tr>\n",
       "    <tr>\n",
       "      <th>1</th>\n",
       "      <td>45-54</td>\n",
       "      <td>50-74K</td>\n",
       "      <td>2</td>\n",
       "      <td>None/Unknown</td>\n",
       "      <td>7</td>\n",
       "      <td>1</td>\n",
       "      <td>0</td>\n",
       "      <td>0</td>\n",
       "      <td>1</td>\n",
       "      <td>0</td>\n",
       "      <td>0</td>\n",
       "      <td>0</td>\n",
       "      <td>0</td>\n",
       "      <td>0</td>\n",
       "      <td>0</td>\n",
       "      <td>1</td>\n",
       "      <td>0</td>\n",
       "      <td>0</td>\n",
       "      <td>0</td>\n",
       "    </tr>\n",
       "    <tr>\n",
       "      <th>2</th>\n",
       "      <td>25-34</td>\n",
       "      <td>25-34K</td>\n",
       "      <td>3</td>\n",
       "      <td>1</td>\n",
       "      <td>8</td>\n",
       "      <td>0</td>\n",
       "      <td>0</td>\n",
       "      <td>1</td>\n",
       "      <td>0</td>\n",
       "      <td>0</td>\n",
       "      <td>0</td>\n",
       "      <td>0</td>\n",
       "      <td>1</td>\n",
       "      <td>0</td>\n",
       "      <td>1</td>\n",
       "      <td>0</td>\n",
       "      <td>0</td>\n",
       "      <td>0</td>\n",
       "      <td>0</td>\n",
       "    </tr>\n",
       "    <tr>\n",
       "      <th>3</th>\n",
       "      <td>25-34</td>\n",
       "      <td>75-99K</td>\n",
       "      <td>4</td>\n",
       "      <td>2</td>\n",
       "      <td>13</td>\n",
       "      <td>0</td>\n",
       "      <td>0</td>\n",
       "      <td>1</td>\n",
       "      <td>1</td>\n",
       "      <td>0</td>\n",
       "      <td>0</td>\n",
       "      <td>0</td>\n",
       "      <td>0</td>\n",
       "      <td>0</td>\n",
       "      <td>1</td>\n",
       "      <td>0</td>\n",
       "      <td>0</td>\n",
       "      <td>0</td>\n",
       "      <td>0</td>\n",
       "    </tr>\n",
       "    <tr>\n",
       "      <th>4</th>\n",
       "      <td>45-54</td>\n",
       "      <td>50-74K</td>\n",
       "      <td>1</td>\n",
       "      <td>None/Unknown</td>\n",
       "      <td>16</td>\n",
       "      <td>0</td>\n",
       "      <td>1</td>\n",
       "      <td>0</td>\n",
       "      <td>1</td>\n",
       "      <td>0</td>\n",
       "      <td>0</td>\n",
       "      <td>0</td>\n",
       "      <td>0</td>\n",
       "      <td>0</td>\n",
       "      <td>0</td>\n",
       "      <td>0</td>\n",
       "      <td>1</td>\n",
       "      <td>0</td>\n",
       "      <td>0</td>\n",
       "    </tr>\n",
       "  </tbody>\n",
       "</table>\n",
       "</div>"
      ],
      "text/plain": [
       "  age_desc income_desc household_size_desc kid_category_desc  user_id  \\\n",
       "0      65+      35-49K                   2      None/Unknown        1   \n",
       "1    45-54      50-74K                   2      None/Unknown        7   \n",
       "2    25-34      25-34K                   3                 1        8   \n",
       "3    25-34      75-99K                   4                 2       13   \n",
       "4    45-54      50-74K                   1      None/Unknown       16   \n",
       "\n",
       "   marital_status_code_A  marital_status_code_B  marital_status_code_U  \\\n",
       "0                      1                      0                      0   \n",
       "1                      1                      0                      0   \n",
       "2                      0                      0                      1   \n",
       "3                      0                      0                      1   \n",
       "4                      0                      1                      0   \n",
       "\n",
       "   homeowner_desc_Homeowner  homeowner_desc_Probable Owner  \\\n",
       "0                         1                              0   \n",
       "1                         1                              0   \n",
       "2                         0                              0   \n",
       "3                         1                              0   \n",
       "4                         1                              0   \n",
       "\n",
       "   homeowner_desc_Probable Renter  homeowner_desc_Renter  \\\n",
       "0                               0                      0   \n",
       "1                               0                      0   \n",
       "2                               0                      0   \n",
       "3                               0                      0   \n",
       "4                               0                      0   \n",
       "\n",
       "   homeowner_desc_Unknown  hh_comp_desc_1 Adult Kids  \\\n",
       "0                       0                          0   \n",
       "1                       0                          0   \n",
       "2                       1                          0   \n",
       "3                       0                          0   \n",
       "4                       0                          0   \n",
       "\n",
       "   hh_comp_desc_2 Adults Kids  hh_comp_desc_2 Adults No Kids  \\\n",
       "0                           0                              1   \n",
       "1                           0                              1   \n",
       "2                           1                              0   \n",
       "3                           1                              0   \n",
       "4                           0                              0   \n",
       "\n",
       "   hh_comp_desc_Single Female  hh_comp_desc_Single Male  hh_comp_desc_Unknown  \n",
       "0                           0                         0                     0  \n",
       "1                           0                         0                     0  \n",
       "2                           0                         0                     0  \n",
       "3                           0                         0                     0  \n",
       "4                           1                         0                     0  "
      ]
     },
     "execution_count": 127,
     "metadata": {},
     "output_type": "execute_result"
    }
   ],
   "source": [
    "user_features.head()"
   ]
  },
  {
   "cell_type": "markdown",
   "metadata": {},
   "source": [
    "Переведем классовые фичи в float для тех, чьи классы линейно связанны."
   ]
  },
  {
   "cell_type": "code",
   "execution_count": 128,
   "metadata": {},
   "outputs": [
    {
     "data": {
      "text/plain": [
       "age_desc\n",
       "45-54       288\n",
       "35-44       194\n",
       "25-34       142\n",
       "65+          72\n",
       "55-64        59\n",
       "19-24        46\n",
       "dtype: int64"
      ]
     },
     "execution_count": 128,
     "metadata": {},
     "output_type": "execute_result"
    }
   ],
   "source": [
    "user_features[['age_desc']].value_counts()"
   ]
  },
  {
   "cell_type": "code",
   "execution_count": 129,
   "metadata": {},
   "outputs": [],
   "source": [
    "user_features.loc[user_features['age_desc'] == '65+', 'age_desc'] = 5\n",
    "user_features.loc[user_features['age_desc'] == '55-64', 'age_desc'] = 4\n",
    "user_features.loc[user_features['age_desc'] == '45-54', 'age_desc'] = 3\n",
    "user_features.loc[user_features['age_desc'] == '35-44', 'age_desc'] = 2\n",
    "user_features.loc[user_features['age_desc'] == '25-34', 'age_desc'] = 1\n",
    "user_features.loc[user_features['age_desc'] == '19-24', 'age_desc'] = 0"
   ]
  },
  {
   "cell_type": "code",
   "execution_count": 130,
   "metadata": {},
   "outputs": [
    {
     "data": {
      "text/plain": [
       "income_desc\n",
       "50-74K         192\n",
       "35-49K         172\n",
       "75-99K          96\n",
       "25-34K          77\n",
       "15-24K          74\n",
       "Under 15K       61\n",
       "125-149K        38\n",
       "100-124K        34\n",
       "150-174K        30\n",
       "250K+           11\n",
       "175-199K        11\n",
       "200-249K         5\n",
       "dtype: int64"
      ]
     },
     "execution_count": 130,
     "metadata": {},
     "output_type": "execute_result"
    }
   ],
   "source": [
    "user_features[['income_desc']].value_counts()"
   ]
  },
  {
   "cell_type": "code",
   "execution_count": 131,
   "metadata": {},
   "outputs": [],
   "source": [
    "user_features.loc[user_features['income_desc'] == 'Under 15K', 'income_desc'] = 0\n",
    "user_features.loc[user_features['income_desc'] == '15-24K', 'income_desc'] = 1\n",
    "user_features.loc[user_features['income_desc'] == '25-34K', 'income_desc'] = 2\n",
    "user_features.loc[user_features['income_desc'] == '35-49K', 'income_desc'] = 3\n",
    "user_features.loc[user_features['income_desc'] == '50-74K', 'income_desc'] = 4\n",
    "user_features.loc[user_features['income_desc'] == '75-99K', 'income_desc'] = 5\n",
    "user_features.loc[user_features['income_desc'] == '100-124K', 'income_desc'] = 6\n",
    "user_features.loc[user_features['income_desc'] == '125-149K', 'income_desc'] = 7\n",
    "user_features.loc[user_features['income_desc'] == '150-174K', 'income_desc'] = 8\n",
    "user_features.loc[user_features['income_desc'] == '175-199K', 'income_desc'] = 9\n",
    "user_features.loc[user_features['income_desc'] == '200-249K', 'income_desc'] = 10\n",
    "user_features.loc[user_features['income_desc'] == '250K+', 'income_desc'] = 11"
   ]
  },
  {
   "cell_type": "code",
   "execution_count": 132,
   "metadata": {},
   "outputs": [
    {
     "data": {
      "text/plain": [
       "kid_category_desc\n",
       "None/Unknown         558\n",
       "1                    114\n",
       "3+                    69\n",
       "2                     60\n",
       "dtype: int64"
      ]
     },
     "execution_count": 132,
     "metadata": {},
     "output_type": "execute_result"
    }
   ],
   "source": [
    "user_features[['kid_category_desc']].value_counts()"
   ]
  },
  {
   "cell_type": "code",
   "execution_count": 133,
   "metadata": {},
   "outputs": [],
   "source": [
    "user_features.loc[user_features['kid_category_desc'] == 'None/Unknown', 'kid_category_desc'] = 0\n",
    "user_features.loc[user_features['kid_category_desc'] == '1', 'kid_category_desc'] = 1\n",
    "user_features.loc[user_features['kid_category_desc'] == '2', 'kid_category_desc'] = 2\n",
    "user_features.loc[user_features['kid_category_desc'] == '3+', 'kid_category_desc'] = 3"
   ]
  },
  {
   "cell_type": "markdown",
   "metadata": {},
   "source": [
    "Посмотрим на item_features"
   ]
  },
  {
   "cell_type": "code",
   "execution_count": 134,
   "metadata": {},
   "outputs": [
    {
     "data": {
      "text/html": [
       "<div>\n",
       "<style scoped>\n",
       "    .dataframe tbody tr th:only-of-type {\n",
       "        vertical-align: middle;\n",
       "    }\n",
       "\n",
       "    .dataframe tbody tr th {\n",
       "        vertical-align: top;\n",
       "    }\n",
       "\n",
       "    .dataframe thead th {\n",
       "        text-align: right;\n",
       "    }\n",
       "</style>\n",
       "<table border=\"1\" class=\"dataframe\">\n",
       "  <thead>\n",
       "    <tr style=\"text-align: right;\">\n",
       "      <th></th>\n",
       "      <th>item_id</th>\n",
       "      <th>manufacturer</th>\n",
       "      <th>department</th>\n",
       "      <th>brand</th>\n",
       "      <th>commodity_desc</th>\n",
       "      <th>sub_commodity_desc</th>\n",
       "      <th>curr_size_of_product</th>\n",
       "    </tr>\n",
       "  </thead>\n",
       "  <tbody>\n",
       "    <tr>\n",
       "      <th>0</th>\n",
       "      <td>25671</td>\n",
       "      <td>2</td>\n",
       "      <td>GROCERY</td>\n",
       "      <td>National</td>\n",
       "      <td>FRZN ICE</td>\n",
       "      <td>ICE - CRUSHED/CUBED</td>\n",
       "      <td>22 LB</td>\n",
       "    </tr>\n",
       "    <tr>\n",
       "      <th>1</th>\n",
       "      <td>26081</td>\n",
       "      <td>2</td>\n",
       "      <td>MISC. TRANS.</td>\n",
       "      <td>National</td>\n",
       "      <td>NO COMMODITY DESCRIPTION</td>\n",
       "      <td>NO SUBCOMMODITY DESCRIPTION</td>\n",
       "      <td></td>\n",
       "    </tr>\n",
       "    <tr>\n",
       "      <th>2</th>\n",
       "      <td>26093</td>\n",
       "      <td>69</td>\n",
       "      <td>PASTRY</td>\n",
       "      <td>Private</td>\n",
       "      <td>BREAD</td>\n",
       "      <td>BREAD:ITALIAN/FRENCH</td>\n",
       "      <td></td>\n",
       "    </tr>\n",
       "    <tr>\n",
       "      <th>3</th>\n",
       "      <td>26190</td>\n",
       "      <td>69</td>\n",
       "      <td>GROCERY</td>\n",
       "      <td>Private</td>\n",
       "      <td>FRUIT - SHELF STABLE</td>\n",
       "      <td>APPLE SAUCE</td>\n",
       "      <td>50 OZ</td>\n",
       "    </tr>\n",
       "    <tr>\n",
       "      <th>4</th>\n",
       "      <td>26355</td>\n",
       "      <td>69</td>\n",
       "      <td>GROCERY</td>\n",
       "      <td>Private</td>\n",
       "      <td>COOKIES/CONES</td>\n",
       "      <td>SPECIALTY COOKIES</td>\n",
       "      <td>14 OZ</td>\n",
       "    </tr>\n",
       "  </tbody>\n",
       "</table>\n",
       "</div>"
      ],
      "text/plain": [
       "   item_id  manufacturer    department     brand            commodity_desc  \\\n",
       "0    25671             2       GROCERY  National                  FRZN ICE   \n",
       "1    26081             2  MISC. TRANS.  National  NO COMMODITY DESCRIPTION   \n",
       "2    26093            69        PASTRY   Private                     BREAD   \n",
       "3    26190            69       GROCERY   Private      FRUIT - SHELF STABLE   \n",
       "4    26355            69       GROCERY   Private             COOKIES/CONES   \n",
       "\n",
       "            sub_commodity_desc curr_size_of_product  \n",
       "0          ICE - CRUSHED/CUBED                22 LB  \n",
       "1  NO SUBCOMMODITY DESCRIPTION                       \n",
       "2         BREAD:ITALIAN/FRENCH                       \n",
       "3                  APPLE SAUCE                50 OZ  \n",
       "4            SPECIALTY COOKIES                14 OZ  "
      ]
     },
     "execution_count": 134,
     "metadata": {},
     "output_type": "execute_result"
    }
   ],
   "source": [
    "item_features.head()"
   ]
  },
  {
   "cell_type": "code",
   "execution_count": 135,
   "metadata": {},
   "outputs": [],
   "source": [
    "item_features = pd.get_dummies(item_features, columns=['brand'])"
   ]
  },
  {
   "cell_type": "markdown",
   "metadata": {},
   "source": [
    "## Построим новые фичи"
   ]
  },
  {
   "cell_type": "markdown",
   "metadata": {},
   "source": [
    "**Фичи user_id:**\n",
    "\n",
    "    - Средний чек\n",
    "    - Средняя сумма покупки 1 товара в каждой категории\n",
    "    - Частотность покупок раз/месяц"
   ]
  },
  {
   "cell_type": "code",
   "execution_count": 136,
   "metadata": {},
   "outputs": [],
   "source": [
    "#Взять средний чек за каждый поход в магазин и потом среднюю по всем походам, чтоб данные\n",
    "#были как можно ближе к реальности\n",
    "mean_sales_value = data.groupby(['user_id','day']).agg({'sales_value':'mean'})\\\n",
    "                .reset_index().groupby('user_id').agg({'sales_value':'mean'})"
   ]
  },
  {
   "cell_type": "code",
   "execution_count": 137,
   "metadata": {},
   "outputs": [],
   "source": [
    "#Средний чек\n",
    "user_features = user_features.join(mean_sales_value, on='user_id', how='left')"
   ]
  },
  {
   "cell_type": "code",
   "execution_count": 138,
   "metadata": {},
   "outputs": [],
   "source": [
    "user_features.rename(columns={'sales_value':'mean_sales_value'}, inplace=True)"
   ]
  },
  {
   "cell_type": "code",
   "execution_count": 139,
   "metadata": {},
   "outputs": [],
   "source": [
    "#для следующих фичей надо будет собрать датасет со всей информацией в один\n",
    "full_data = data.join(user_features.set_index('user_id'), on='user_id', how='left')\n",
    "full_data = full_data.join(item_features.set_index('item_id'), on='item_id', how='left')"
   ]
  },
  {
   "cell_type": "code",
   "execution_count": 140,
   "metadata": {},
   "outputs": [
    {
     "data": {
      "text/html": [
       "<div>\n",
       "<style scoped>\n",
       "    .dataframe tbody tr th:only-of-type {\n",
       "        vertical-align: middle;\n",
       "    }\n",
       "\n",
       "    .dataframe tbody tr th {\n",
       "        vertical-align: top;\n",
       "    }\n",
       "\n",
       "    .dataframe thead th {\n",
       "        text-align: right;\n",
       "    }\n",
       "</style>\n",
       "<table border=\"1\" class=\"dataframe\">\n",
       "  <thead>\n",
       "    <tr style=\"text-align: right;\">\n",
       "      <th></th>\n",
       "      <th>user_id</th>\n",
       "      <th>basket_id</th>\n",
       "      <th>day</th>\n",
       "      <th>item_id</th>\n",
       "      <th>quantity</th>\n",
       "      <th>sales_value</th>\n",
       "      <th>store_id</th>\n",
       "      <th>retail_disc</th>\n",
       "      <th>trans_time</th>\n",
       "      <th>week_no</th>\n",
       "      <th>...</th>\n",
       "      <th>hh_comp_desc_Single Male</th>\n",
       "      <th>hh_comp_desc_Unknown</th>\n",
       "      <th>mean_sales_value</th>\n",
       "      <th>manufacturer</th>\n",
       "      <th>department</th>\n",
       "      <th>commodity_desc</th>\n",
       "      <th>sub_commodity_desc</th>\n",
       "      <th>curr_size_of_product</th>\n",
       "      <th>brand_National</th>\n",
       "      <th>brand_Private</th>\n",
       "    </tr>\n",
       "  </thead>\n",
       "  <tbody>\n",
       "    <tr>\n",
       "      <th>0</th>\n",
       "      <td>2375</td>\n",
       "      <td>26984851472</td>\n",
       "      <td>1</td>\n",
       "      <td>1004906</td>\n",
       "      <td>1</td>\n",
       "      <td>1.39</td>\n",
       "      <td>364</td>\n",
       "      <td>-0.60</td>\n",
       "      <td>1631</td>\n",
       "      <td>1</td>\n",
       "      <td>...</td>\n",
       "      <td>NaN</td>\n",
       "      <td>NaN</td>\n",
       "      <td>NaN</td>\n",
       "      <td>69</td>\n",
       "      <td>PRODUCE</td>\n",
       "      <td>POTATOES</td>\n",
       "      <td>POTATOES RUSSET (BULK&amp;BAG)</td>\n",
       "      <td>5 LB</td>\n",
       "      <td>0</td>\n",
       "      <td>1</td>\n",
       "    </tr>\n",
       "    <tr>\n",
       "      <th>1</th>\n",
       "      <td>2375</td>\n",
       "      <td>26984851472</td>\n",
       "      <td>1</td>\n",
       "      <td>1033142</td>\n",
       "      <td>1</td>\n",
       "      <td>0.82</td>\n",
       "      <td>364</td>\n",
       "      <td>0.00</td>\n",
       "      <td>1631</td>\n",
       "      <td>1</td>\n",
       "      <td>...</td>\n",
       "      <td>NaN</td>\n",
       "      <td>NaN</td>\n",
       "      <td>NaN</td>\n",
       "      <td>2</td>\n",
       "      <td>PRODUCE</td>\n",
       "      <td>ONIONS</td>\n",
       "      <td>ONIONS SWEET (BULK&amp;BAG)</td>\n",
       "      <td>40 LB</td>\n",
       "      <td>1</td>\n",
       "      <td>0</td>\n",
       "    </tr>\n",
       "    <tr>\n",
       "      <th>2</th>\n",
       "      <td>2375</td>\n",
       "      <td>26984851472</td>\n",
       "      <td>1</td>\n",
       "      <td>1036325</td>\n",
       "      <td>1</td>\n",
       "      <td>0.99</td>\n",
       "      <td>364</td>\n",
       "      <td>-0.30</td>\n",
       "      <td>1631</td>\n",
       "      <td>1</td>\n",
       "      <td>...</td>\n",
       "      <td>NaN</td>\n",
       "      <td>NaN</td>\n",
       "      <td>NaN</td>\n",
       "      <td>69</td>\n",
       "      <td>PRODUCE</td>\n",
       "      <td>VEGETABLES - ALL OTHERS</td>\n",
       "      <td>CELERY</td>\n",
       "      <td></td>\n",
       "      <td>0</td>\n",
       "      <td>1</td>\n",
       "    </tr>\n",
       "    <tr>\n",
       "      <th>3</th>\n",
       "      <td>2375</td>\n",
       "      <td>26984851472</td>\n",
       "      <td>1</td>\n",
       "      <td>1082185</td>\n",
       "      <td>1</td>\n",
       "      <td>1.21</td>\n",
       "      <td>364</td>\n",
       "      <td>0.00</td>\n",
       "      <td>1631</td>\n",
       "      <td>1</td>\n",
       "      <td>...</td>\n",
       "      <td>NaN</td>\n",
       "      <td>NaN</td>\n",
       "      <td>NaN</td>\n",
       "      <td>2</td>\n",
       "      <td>PRODUCE</td>\n",
       "      <td>TROPICAL FRUIT</td>\n",
       "      <td>BANANAS</td>\n",
       "      <td>40 LB</td>\n",
       "      <td>1</td>\n",
       "      <td>0</td>\n",
       "    </tr>\n",
       "    <tr>\n",
       "      <th>4</th>\n",
       "      <td>2375</td>\n",
       "      <td>26984851472</td>\n",
       "      <td>1</td>\n",
       "      <td>8160430</td>\n",
       "      <td>1</td>\n",
       "      <td>1.50</td>\n",
       "      <td>364</td>\n",
       "      <td>-0.39</td>\n",
       "      <td>1631</td>\n",
       "      <td>1</td>\n",
       "      <td>...</td>\n",
       "      <td>NaN</td>\n",
       "      <td>NaN</td>\n",
       "      <td>NaN</td>\n",
       "      <td>69</td>\n",
       "      <td>PRODUCE</td>\n",
       "      <td>ORGANICS FRUIT &amp; VEGETABLES</td>\n",
       "      <td>ORGANIC CARROTS</td>\n",
       "      <td>1 LB</td>\n",
       "      <td>0</td>\n",
       "      <td>1</td>\n",
       "    </tr>\n",
       "  </tbody>\n",
       "</table>\n",
       "<p>5 rows × 38 columns</p>\n",
       "</div>"
      ],
      "text/plain": [
       "   user_id    basket_id  day  item_id  quantity  sales_value  store_id  \\\n",
       "0     2375  26984851472    1  1004906         1         1.39       364   \n",
       "1     2375  26984851472    1  1033142         1         0.82       364   \n",
       "2     2375  26984851472    1  1036325         1         0.99       364   \n",
       "3     2375  26984851472    1  1082185         1         1.21       364   \n",
       "4     2375  26984851472    1  8160430         1         1.50       364   \n",
       "\n",
       "   retail_disc  trans_time  week_no  ...  hh_comp_desc_Single Male  \\\n",
       "0        -0.60        1631        1  ...                       NaN   \n",
       "1         0.00        1631        1  ...                       NaN   \n",
       "2        -0.30        1631        1  ...                       NaN   \n",
       "3         0.00        1631        1  ...                       NaN   \n",
       "4        -0.39        1631        1  ...                       NaN   \n",
       "\n",
       "   hh_comp_desc_Unknown mean_sales_value manufacturer department  \\\n",
       "0                   NaN              NaN           69    PRODUCE   \n",
       "1                   NaN              NaN            2    PRODUCE   \n",
       "2                   NaN              NaN           69    PRODUCE   \n",
       "3                   NaN              NaN            2    PRODUCE   \n",
       "4                   NaN              NaN           69    PRODUCE   \n",
       "\n",
       "                commodity_desc          sub_commodity_desc  \\\n",
       "0                     POTATOES  POTATOES RUSSET (BULK&BAG)   \n",
       "1                       ONIONS     ONIONS SWEET (BULK&BAG)   \n",
       "2      VEGETABLES - ALL OTHERS                      CELERY   \n",
       "3               TROPICAL FRUIT                     BANANAS   \n",
       "4  ORGANICS FRUIT & VEGETABLES             ORGANIC CARROTS   \n",
       "\n",
       "   curr_size_of_product  brand_National  brand_Private  \n",
       "0                  5 LB               0              1  \n",
       "1                 40 LB               1              0  \n",
       "2                                     0              1  \n",
       "3                 40 LB               1              0  \n",
       "4                  1 LB               0              1  \n",
       "\n",
       "[5 rows x 38 columns]"
      ]
     },
     "execution_count": 140,
     "metadata": {},
     "output_type": "execute_result"
    }
   ],
   "source": [
    "full_data.head()"
   ]
  },
  {
   "cell_type": "code",
   "execution_count": 141,
   "metadata": {},
   "outputs": [],
   "source": [
    "#Средняя сумма покупки 1 товара в каждой категории\n",
    "mean_check_per_department = full_data.groupby(['user_id', 'basket_id', 'department']).agg({'sales_value':'sum'})\\\n",
    "    .groupby(['user_id', 'department']).mean()"
   ]
  },
  {
   "cell_type": "code",
   "execution_count": 142,
   "metadata": {},
   "outputs": [],
   "source": [
    "mean_check_per_department = mean_check_per_department.reset_index().set_index('user_id')"
   ]
  },
  {
   "cell_type": "code",
   "execution_count": 143,
   "metadata": {},
   "outputs": [],
   "source": [
    "user_features = user_features.join(mean_check_per_department, on='user_id', how='left')\\\n",
    "                .rename(columns={'sales_value':'mean_check_per_department'})"
   ]
  },
  {
   "cell_type": "code",
   "execution_count": 144,
   "metadata": {},
   "outputs": [
    {
     "data": {
      "text/html": [
       "<div>\n",
       "<style scoped>\n",
       "    .dataframe tbody tr th:only-of-type {\n",
       "        vertical-align: middle;\n",
       "    }\n",
       "\n",
       "    .dataframe tbody tr th {\n",
       "        vertical-align: top;\n",
       "    }\n",
       "\n",
       "    .dataframe thead th {\n",
       "        text-align: right;\n",
       "    }\n",
       "</style>\n",
       "<table border=\"1\" class=\"dataframe\">\n",
       "  <thead>\n",
       "    <tr style=\"text-align: right;\">\n",
       "      <th></th>\n",
       "      <th>age_desc</th>\n",
       "      <th>income_desc</th>\n",
       "      <th>household_size_desc</th>\n",
       "      <th>kid_category_desc</th>\n",
       "      <th>user_id</th>\n",
       "      <th>marital_status_code_A</th>\n",
       "      <th>marital_status_code_B</th>\n",
       "      <th>marital_status_code_U</th>\n",
       "      <th>homeowner_desc_Homeowner</th>\n",
       "      <th>homeowner_desc_Probable Owner</th>\n",
       "      <th>...</th>\n",
       "      <th>homeowner_desc_Unknown</th>\n",
       "      <th>hh_comp_desc_1 Adult Kids</th>\n",
       "      <th>hh_comp_desc_2 Adults Kids</th>\n",
       "      <th>hh_comp_desc_2 Adults No Kids</th>\n",
       "      <th>hh_comp_desc_Single Female</th>\n",
       "      <th>hh_comp_desc_Single Male</th>\n",
       "      <th>hh_comp_desc_Unknown</th>\n",
       "      <th>mean_sales_value</th>\n",
       "      <th>department</th>\n",
       "      <th>mean_check_per_department</th>\n",
       "    </tr>\n",
       "  </thead>\n",
       "  <tbody>\n",
       "    <tr>\n",
       "      <th>0</th>\n",
       "      <td>5</td>\n",
       "      <td>3</td>\n",
       "      <td>2</td>\n",
       "      <td>0</td>\n",
       "      <td>1</td>\n",
       "      <td>1</td>\n",
       "      <td>0</td>\n",
       "      <td>0</td>\n",
       "      <td>1</td>\n",
       "      <td>0</td>\n",
       "      <td>...</td>\n",
       "      <td>0</td>\n",
       "      <td>0</td>\n",
       "      <td>0</td>\n",
       "      <td>1</td>\n",
       "      <td>0</td>\n",
       "      <td>0</td>\n",
       "      <td>0</td>\n",
       "      <td>2.741772</td>\n",
       "      <td></td>\n",
       "      <td>0.000000</td>\n",
       "    </tr>\n",
       "    <tr>\n",
       "      <th>0</th>\n",
       "      <td>5</td>\n",
       "      <td>3</td>\n",
       "      <td>2</td>\n",
       "      <td>0</td>\n",
       "      <td>1</td>\n",
       "      <td>1</td>\n",
       "      <td>0</td>\n",
       "      <td>0</td>\n",
       "      <td>1</td>\n",
       "      <td>0</td>\n",
       "      <td>...</td>\n",
       "      <td>0</td>\n",
       "      <td>0</td>\n",
       "      <td>0</td>\n",
       "      <td>1</td>\n",
       "      <td>0</td>\n",
       "      <td>0</td>\n",
       "      <td>0</td>\n",
       "      <td>2.741772</td>\n",
       "      <td>DELI</td>\n",
       "      <td>4.846757</td>\n",
       "    </tr>\n",
       "    <tr>\n",
       "      <th>0</th>\n",
       "      <td>5</td>\n",
       "      <td>3</td>\n",
       "      <td>2</td>\n",
       "      <td>0</td>\n",
       "      <td>1</td>\n",
       "      <td>1</td>\n",
       "      <td>0</td>\n",
       "      <td>0</td>\n",
       "      <td>1</td>\n",
       "      <td>0</td>\n",
       "      <td>...</td>\n",
       "      <td>0</td>\n",
       "      <td>0</td>\n",
       "      <td>0</td>\n",
       "      <td>1</td>\n",
       "      <td>0</td>\n",
       "      <td>0</td>\n",
       "      <td>0</td>\n",
       "      <td>2.741772</td>\n",
       "      <td>DRUG GM</td>\n",
       "      <td>8.596415</td>\n",
       "    </tr>\n",
       "    <tr>\n",
       "      <th>0</th>\n",
       "      <td>5</td>\n",
       "      <td>3</td>\n",
       "      <td>2</td>\n",
       "      <td>0</td>\n",
       "      <td>1</td>\n",
       "      <td>1</td>\n",
       "      <td>0</td>\n",
       "      <td>0</td>\n",
       "      <td>1</td>\n",
       "      <td>0</td>\n",
       "      <td>...</td>\n",
       "      <td>0</td>\n",
       "      <td>0</td>\n",
       "      <td>0</td>\n",
       "      <td>1</td>\n",
       "      <td>0</td>\n",
       "      <td>0</td>\n",
       "      <td>0</td>\n",
       "      <td>2.741772</td>\n",
       "      <td>FLORAL</td>\n",
       "      <td>7.990000</td>\n",
       "    </tr>\n",
       "    <tr>\n",
       "      <th>0</th>\n",
       "      <td>5</td>\n",
       "      <td>3</td>\n",
       "      <td>2</td>\n",
       "      <td>0</td>\n",
       "      <td>1</td>\n",
       "      <td>1</td>\n",
       "      <td>0</td>\n",
       "      <td>0</td>\n",
       "      <td>1</td>\n",
       "      <td>0</td>\n",
       "      <td>...</td>\n",
       "      <td>0</td>\n",
       "      <td>0</td>\n",
       "      <td>0</td>\n",
       "      <td>1</td>\n",
       "      <td>0</td>\n",
       "      <td>0</td>\n",
       "      <td>0</td>\n",
       "      <td>2.741772</td>\n",
       "      <td>GROCERY</td>\n",
       "      <td>38.251642</td>\n",
       "    </tr>\n",
       "  </tbody>\n",
       "</table>\n",
       "<p>5 rows × 22 columns</p>\n",
       "</div>"
      ],
      "text/plain": [
       "  age_desc income_desc household_size_desc kid_category_desc  user_id  \\\n",
       "0        5           3                   2                 0        1   \n",
       "0        5           3                   2                 0        1   \n",
       "0        5           3                   2                 0        1   \n",
       "0        5           3                   2                 0        1   \n",
       "0        5           3                   2                 0        1   \n",
       "\n",
       "   marital_status_code_A  marital_status_code_B  marital_status_code_U  \\\n",
       "0                      1                      0                      0   \n",
       "0                      1                      0                      0   \n",
       "0                      1                      0                      0   \n",
       "0                      1                      0                      0   \n",
       "0                      1                      0                      0   \n",
       "\n",
       "   homeowner_desc_Homeowner  homeowner_desc_Probable Owner  ...  \\\n",
       "0                         1                              0  ...   \n",
       "0                         1                              0  ...   \n",
       "0                         1                              0  ...   \n",
       "0                         1                              0  ...   \n",
       "0                         1                              0  ...   \n",
       "\n",
       "   homeowner_desc_Unknown  hh_comp_desc_1 Adult Kids  \\\n",
       "0                       0                          0   \n",
       "0                       0                          0   \n",
       "0                       0                          0   \n",
       "0                       0                          0   \n",
       "0                       0                          0   \n",
       "\n",
       "   hh_comp_desc_2 Adults Kids  hh_comp_desc_2 Adults No Kids  \\\n",
       "0                           0                              1   \n",
       "0                           0                              1   \n",
       "0                           0                              1   \n",
       "0                           0                              1   \n",
       "0                           0                              1   \n",
       "\n",
       "   hh_comp_desc_Single Female  hh_comp_desc_Single Male  hh_comp_desc_Unknown  \\\n",
       "0                           0                         0                     0   \n",
       "0                           0                         0                     0   \n",
       "0                           0                         0                     0   \n",
       "0                           0                         0                     0   \n",
       "0                           0                         0                     0   \n",
       "\n",
       "   mean_sales_value  department  mean_check_per_department  \n",
       "0          2.741772                               0.000000  \n",
       "0          2.741772        DELI                   4.846757  \n",
       "0          2.741772     DRUG GM                   8.596415  \n",
       "0          2.741772      FLORAL                   7.990000  \n",
       "0          2.741772     GROCERY                  38.251642  \n",
       "\n",
       "[5 rows x 22 columns]"
      ]
     },
     "execution_count": 144,
     "metadata": {},
     "output_type": "execute_result"
    }
   ],
   "source": [
    "user_features.head()"
   ]
  },
  {
   "cell_type": "code",
   "execution_count": null,
   "metadata": {},
   "outputs": [],
   "source": []
  },
  {
   "cell_type": "code",
   "execution_count": 145,
   "metadata": {},
   "outputs": [],
   "source": [
    "#Количество покупок в неделю\n",
    "mean_itmes_per_week = data.groupby(['user_id', 'week_no']).agg({'basket_id':'count'}).groupby('user_id').mean()\n",
    "user_features = user_features.join(mean_itmes_per_week, on='user_id', how='left')\\\n",
    "                .rename(columns={'day':'mean_itmes_per_week'})"
   ]
  },
  {
   "cell_type": "markdown",
   "metadata": {},
   "source": [
    "**Фичи item_id**:\n",
    "\n",
    "    - Кол-во покупок в неделю\n",
    "    \n",
    "    - Среднее ол-во покупок 1 товара в категории в неделю\n",
    "    - (Кол-во покупок в неделю) / (Среднее ол-во покупок 1 товара в категории в неделю)\n",
    "    - Цена (Можно посчитать из retil_train.csv)\n",
    "    - Цена / Средняя цена товара в категории"
   ]
  },
  {
   "cell_type": "code",
   "execution_count": 146,
   "metadata": {},
   "outputs": [
    {
     "data": {
      "text/plain": [
       "(92353, 8)"
      ]
     },
     "execution_count": 146,
     "metadata": {},
     "output_type": "execute_result"
    }
   ],
   "source": [
    "item_features.shape"
   ]
  },
  {
   "cell_type": "code",
   "execution_count": 147,
   "metadata": {},
   "outputs": [],
   "source": [
    "#Сколько каждого товара в среднем покупается в неделю\n",
    "mean_itmes_per_week_itms = data.groupby(['item_id', 'week_no']).agg({'basket_id':'count'}).groupby('item_id').mean()\n",
    "item_features = item_features.join(mean_itmes_per_week_itms, on='item_id', how='left')\\\n",
    "                .rename(columns={'basket_id':'mean_itmes_per_week'})"
   ]
  },
  {
   "cell_type": "code",
   "execution_count": 148,
   "metadata": {},
   "outputs": [
    {
     "data": {
      "text/plain": [
       "(92353, 9)"
      ]
     },
     "execution_count": 148,
     "metadata": {},
     "output_type": "execute_result"
    }
   ],
   "source": [
    "item_features.shape"
   ]
  },
  {
   "cell_type": "code",
   "execution_count": 149,
   "metadata": {},
   "outputs": [
    {
     "data": {
      "text/plain": [
       "1.000000     59045\n",
       "1.500000      1272\n",
       "1.333333      1258\n",
       "1.250000      1156\n",
       "1.200000      1013\n",
       "             ...  \n",
       "3.465517         1\n",
       "12.181818        1\n",
       "2.366197         1\n",
       "3.260870         1\n",
       "3.144578         1\n",
       "Name: mean_itmes_per_week, Length: 4098, dtype: int64"
      ]
     },
     "execution_count": 149,
     "metadata": {},
     "output_type": "execute_result"
    }
   ],
   "source": [
    "item_features.mean_itmes_per_week.value_counts()"
   ]
  },
  {
   "cell_type": "code",
   "execution_count": 150,
   "metadata": {},
   "outputs": [],
   "source": [
    "#Среднее кол-во покупок товара определеной категории в неделю\n",
    "mean_itms_per_week_per_department = full_data.groupby(['department', 'week_no']).agg({'item_id':'count'}).reset_index()\\\n",
    "        .groupby('department').agg({'item_id':'mean'})\\\n",
    "        .rename(columns={'item_id':'mean_itms_per_week_per_department'})"
   ]
  },
  {
   "cell_type": "code",
   "execution_count": 151,
   "metadata": {},
   "outputs": [
    {
     "data": {
      "text/html": [
       "<div>\n",
       "<style scoped>\n",
       "    .dataframe tbody tr th:only-of-type {\n",
       "        vertical-align: middle;\n",
       "    }\n",
       "\n",
       "    .dataframe tbody tr th {\n",
       "        vertical-align: top;\n",
       "    }\n",
       "\n",
       "    .dataframe thead th {\n",
       "        text-align: right;\n",
       "    }\n",
       "</style>\n",
       "<table border=\"1\" class=\"dataframe\">\n",
       "  <thead>\n",
       "    <tr style=\"text-align: right;\">\n",
       "      <th></th>\n",
       "      <th>mean_itms_per_week_per_department</th>\n",
       "    </tr>\n",
       "    <tr>\n",
       "      <th>department</th>\n",
       "      <th></th>\n",
       "    </tr>\n",
       "  </thead>\n",
       "  <tbody>\n",
       "    <tr>\n",
       "      <th></th>\n",
       "      <td>75.894737</td>\n",
       "    </tr>\n",
       "    <tr>\n",
       "      <th>AUTOMOTIVE</th>\n",
       "      <td>1.404762</td>\n",
       "    </tr>\n",
       "    <tr>\n",
       "      <th>CHARITABLE CONT</th>\n",
       "      <td>2.000000</td>\n",
       "    </tr>\n",
       "    <tr>\n",
       "      <th>CHEF SHOPPE</th>\n",
       "      <td>9.865672</td>\n",
       "    </tr>\n",
       "    <tr>\n",
       "      <th>CNTRL/STORE SUP</th>\n",
       "      <td>1.750000</td>\n",
       "    </tr>\n",
       "  </tbody>\n",
       "</table>\n",
       "</div>"
      ],
      "text/plain": [
       "                 mean_itms_per_week_per_department\n",
       "department                                        \n",
       "                                         75.894737\n",
       "AUTOMOTIVE                                1.404762\n",
       "CHARITABLE CONT                           2.000000\n",
       "CHEF SHOPPE                               9.865672\n",
       "CNTRL/STORE SUP                           1.750000"
      ]
     },
     "execution_count": 151,
     "metadata": {},
     "output_type": "execute_result"
    }
   ],
   "source": [
    "mean_itms_per_week_per_department.head()"
   ]
  },
  {
   "cell_type": "code",
   "execution_count": 152,
   "metadata": {},
   "outputs": [],
   "source": [
    "item_features = item_features.\\\n",
    "    join(mean_itms_per_week_per_department, on='department', how='left')"
   ]
  },
  {
   "cell_type": "code",
   "execution_count": 153,
   "metadata": {},
   "outputs": [],
   "source": [
    "#Добавим цену\n",
    "item_features = item_features.\\\n",
    "    join(data.groupby('item_id').agg({'sales_value':'mean'}), on='item_id', how='left')"
   ]
  },
  {
   "cell_type": "code",
   "execution_count": 154,
   "metadata": {},
   "outputs": [
    {
     "data": {
      "text/plain": [
       "4.3484381373079675"
      ]
     },
     "execution_count": 154,
     "metadata": {},
     "output_type": "execute_result"
    }
   ],
   "source": [
    "item_features.sales_value.mean()"
   ]
  },
  {
   "cell_type": "code",
   "execution_count": 155,
   "metadata": {},
   "outputs": [],
   "source": [
    "#добавим стандартизованую цену(+смещение)\n",
    "item_features['std_value'] = item_features.sales_value / item_features.sales_value.mean()"
   ]
  },
  {
   "cell_type": "code",
   "execution_count": 156,
   "metadata": {},
   "outputs": [
    {
     "data": {
      "text/html": [
       "<div>\n",
       "<style scoped>\n",
       "    .dataframe tbody tr th:only-of-type {\n",
       "        vertical-align: middle;\n",
       "    }\n",
       "\n",
       "    .dataframe tbody tr th {\n",
       "        vertical-align: top;\n",
       "    }\n",
       "\n",
       "    .dataframe thead th {\n",
       "        text-align: right;\n",
       "    }\n",
       "</style>\n",
       "<table border=\"1\" class=\"dataframe\">\n",
       "  <thead>\n",
       "    <tr style=\"text-align: right;\">\n",
       "      <th></th>\n",
       "      <th>item_id</th>\n",
       "      <th>manufacturer</th>\n",
       "      <th>department</th>\n",
       "      <th>commodity_desc</th>\n",
       "      <th>sub_commodity_desc</th>\n",
       "      <th>curr_size_of_product</th>\n",
       "      <th>brand_National</th>\n",
       "      <th>brand_Private</th>\n",
       "      <th>mean_itmes_per_week</th>\n",
       "      <th>mean_itms_per_week_per_department</th>\n",
       "      <th>sales_value</th>\n",
       "      <th>std_value</th>\n",
       "    </tr>\n",
       "  </thead>\n",
       "  <tbody>\n",
       "    <tr>\n",
       "      <th>0</th>\n",
       "      <td>25671</td>\n",
       "      <td>2</td>\n",
       "      <td>GROCERY</td>\n",
       "      <td>FRZN ICE</td>\n",
       "      <td>ICE - CRUSHED/CUBED</td>\n",
       "      <td>22 LB</td>\n",
       "      <td>1</td>\n",
       "      <td>0</td>\n",
       "      <td>1.0</td>\n",
       "      <td>15989.789474</td>\n",
       "      <td>6.98</td>\n",
       "      <td>1.605174</td>\n",
       "    </tr>\n",
       "    <tr>\n",
       "      <th>1</th>\n",
       "      <td>26081</td>\n",
       "      <td>2</td>\n",
       "      <td>MISC. TRANS.</td>\n",
       "      <td>NO COMMODITY DESCRIPTION</td>\n",
       "      <td>NO SUBCOMMODITY DESCRIPTION</td>\n",
       "      <td></td>\n",
       "      <td>1</td>\n",
       "      <td>0</td>\n",
       "      <td>1.0</td>\n",
       "      <td>22.800000</td>\n",
       "      <td>0.99</td>\n",
       "      <td>0.227668</td>\n",
       "    </tr>\n",
       "    <tr>\n",
       "      <th>2</th>\n",
       "      <td>26093</td>\n",
       "      <td>69</td>\n",
       "      <td>PASTRY</td>\n",
       "      <td>BREAD</td>\n",
       "      <td>BREAD:ITALIAN/FRENCH</td>\n",
       "      <td></td>\n",
       "      <td>0</td>\n",
       "      <td>1</td>\n",
       "      <td>1.0</td>\n",
       "      <td>371.326316</td>\n",
       "      <td>1.59</td>\n",
       "      <td>0.365649</td>\n",
       "    </tr>\n",
       "    <tr>\n",
       "      <th>3</th>\n",
       "      <td>26190</td>\n",
       "      <td>69</td>\n",
       "      <td>GROCERY</td>\n",
       "      <td>FRUIT - SHELF STABLE</td>\n",
       "      <td>APPLE SAUCE</td>\n",
       "      <td>50 OZ</td>\n",
       "      <td>0</td>\n",
       "      <td>1</td>\n",
       "      <td>1.0</td>\n",
       "      <td>15989.789474</td>\n",
       "      <td>1.54</td>\n",
       "      <td>0.354150</td>\n",
       "    </tr>\n",
       "    <tr>\n",
       "      <th>4</th>\n",
       "      <td>26355</td>\n",
       "      <td>69</td>\n",
       "      <td>GROCERY</td>\n",
       "      <td>COOKIES/CONES</td>\n",
       "      <td>SPECIALTY COOKIES</td>\n",
       "      <td>14 OZ</td>\n",
       "      <td>0</td>\n",
       "      <td>1</td>\n",
       "      <td>1.0</td>\n",
       "      <td>15989.789474</td>\n",
       "      <td>1.98</td>\n",
       "      <td>0.455336</td>\n",
       "    </tr>\n",
       "  </tbody>\n",
       "</table>\n",
       "</div>"
      ],
      "text/plain": [
       "   item_id  manufacturer    department            commodity_desc  \\\n",
       "0    25671             2       GROCERY                  FRZN ICE   \n",
       "1    26081             2  MISC. TRANS.  NO COMMODITY DESCRIPTION   \n",
       "2    26093            69        PASTRY                     BREAD   \n",
       "3    26190            69       GROCERY      FRUIT - SHELF STABLE   \n",
       "4    26355            69       GROCERY             COOKIES/CONES   \n",
       "\n",
       "            sub_commodity_desc curr_size_of_product  brand_National  \\\n",
       "0          ICE - CRUSHED/CUBED                22 LB               1   \n",
       "1  NO SUBCOMMODITY DESCRIPTION                                    1   \n",
       "2         BREAD:ITALIAN/FRENCH                                    0   \n",
       "3                  APPLE SAUCE                50 OZ               0   \n",
       "4            SPECIALTY COOKIES                14 OZ               0   \n",
       "\n",
       "   brand_Private  mean_itmes_per_week  mean_itms_per_week_per_department  \\\n",
       "0              0                  1.0                       15989.789474   \n",
       "1              0                  1.0                          22.800000   \n",
       "2              1                  1.0                         371.326316   \n",
       "3              1                  1.0                       15989.789474   \n",
       "4              1                  1.0                       15989.789474   \n",
       "\n",
       "   sales_value  std_value  \n",
       "0         6.98   1.605174  \n",
       "1         0.99   0.227668  \n",
       "2         1.59   0.365649  \n",
       "3         1.54   0.354150  \n",
       "4         1.98   0.455336  "
      ]
     },
     "execution_count": 156,
     "metadata": {},
     "output_type": "execute_result"
    }
   ],
   "source": [
    "item_features.head()"
   ]
  },
  {
   "cell_type": "code",
   "execution_count": 157,
   "metadata": {},
   "outputs": [
    {
     "data": {
      "text/plain": [
       "(92353, 12)"
      ]
     },
     "execution_count": 157,
     "metadata": {},
     "output_type": "execute_result"
    }
   ],
   "source": [
    "item_features.shape"
   ]
  },
  {
   "cell_type": "markdown",
   "metadata": {},
   "source": [
    "\n",
    "**Фичи пары user_id - item_id**\n",
    "\n",
    "    - (Средняя сумма покупки 1 товара в каждой категории (берем категорию item_id)) - (Цена item_id)\n",
    "    - (Средний чек покупок юзером в конкретной категории) / (Средний чек покупок в среднем в конкретной"
   ]
  },
  {
   "cell_type": "code",
   "execution_count": 158,
   "metadata": {},
   "outputs": [],
   "source": [
    "# Обновим full_data с учетом уже новых фичей\n",
    "full_data = full_data.join(mean_check_per_department.sales_value.rename('mean_check_per_department'), on='user_id', how='left')"
   ]
  },
  {
   "cell_type": "code",
   "execution_count": 159,
   "metadata": {},
   "outputs": [],
   "source": [
    "# насколько цена item-а дешевле чем средняя по категории (если с минусом, значит дороже)\n",
    "price_difference_per_itm = full_data.set_index('item_id').mean_check_per_department - full_data.set_index('item_id').sales_value"
   ]
  },
  {
   "cell_type": "code",
   "execution_count": 160,
   "metadata": {},
   "outputs": [],
   "source": [
    "# Коеффициент - насколько пользователь сильнее склонен к покупке товара данной категории чем другие"
   ]
  },
  {
   "cell_type": "markdown",
   "metadata": {},
   "source": [
    "### Поделим данные на train и test для модели первого и второго уровня"
   ]
  },
  {
   "cell_type": "code",
   "execution_count": 161,
   "metadata": {},
   "outputs": [
    {
     "data": {
      "text/html": [
       "<div>\n",
       "<style scoped>\n",
       "    .dataframe tbody tr th:only-of-type {\n",
       "        vertical-align: middle;\n",
       "    }\n",
       "\n",
       "    .dataframe tbody tr th {\n",
       "        vertical-align: top;\n",
       "    }\n",
       "\n",
       "    .dataframe thead th {\n",
       "        text-align: right;\n",
       "    }\n",
       "</style>\n",
       "<table border=\"1\" class=\"dataframe\">\n",
       "  <thead>\n",
       "    <tr style=\"text-align: right;\">\n",
       "      <th></th>\n",
       "      <th>user_id</th>\n",
       "      <th>basket_id</th>\n",
       "      <th>day</th>\n",
       "      <th>item_id</th>\n",
       "      <th>quantity</th>\n",
       "      <th>sales_value</th>\n",
       "      <th>store_id</th>\n",
       "      <th>retail_disc</th>\n",
       "      <th>trans_time</th>\n",
       "      <th>week_no</th>\n",
       "      <th>coupon_disc</th>\n",
       "      <th>coupon_match_disc</th>\n",
       "    </tr>\n",
       "  </thead>\n",
       "  <tbody>\n",
       "    <tr>\n",
       "      <th>0</th>\n",
       "      <td>2375</td>\n",
       "      <td>26984851472</td>\n",
       "      <td>1</td>\n",
       "      <td>1004906</td>\n",
       "      <td>1</td>\n",
       "      <td>1.39</td>\n",
       "      <td>364</td>\n",
       "      <td>-0.6</td>\n",
       "      <td>1631</td>\n",
       "      <td>1</td>\n",
       "      <td>0.0</td>\n",
       "      <td>0.0</td>\n",
       "    </tr>\n",
       "    <tr>\n",
       "      <th>1</th>\n",
       "      <td>2375</td>\n",
       "      <td>26984851472</td>\n",
       "      <td>1</td>\n",
       "      <td>1033142</td>\n",
       "      <td>1</td>\n",
       "      <td>0.82</td>\n",
       "      <td>364</td>\n",
       "      <td>0.0</td>\n",
       "      <td>1631</td>\n",
       "      <td>1</td>\n",
       "      <td>0.0</td>\n",
       "      <td>0.0</td>\n",
       "    </tr>\n",
       "  </tbody>\n",
       "</table>\n",
       "</div>"
      ],
      "text/plain": [
       "   user_id    basket_id  day  item_id  quantity  sales_value  store_id  \\\n",
       "0     2375  26984851472    1  1004906         1         1.39       364   \n",
       "1     2375  26984851472    1  1033142         1         0.82       364   \n",
       "\n",
       "   retail_disc  trans_time  week_no  coupon_disc  coupon_match_disc  \n",
       "0         -0.6        1631        1          0.0                0.0  \n",
       "1          0.0        1631        1          0.0                0.0  "
      ]
     },
     "execution_count": 161,
     "metadata": {},
     "output_type": "execute_result"
    }
   ],
   "source": [
    "val_lvl_1_size_weeks = 6\n",
    "val_lvl_2_size_weeks = 3\n",
    "\n",
    "data_train_lvl_1 = data[data['week_no'] < data['week_no'].max() - (val_lvl_1_size_weeks + val_lvl_2_size_weeks)]\n",
    "data_val_lvl_1 = data[(data['week_no'] >= data['week_no'].max() - (val_lvl_1_size_weeks + val_lvl_2_size_weeks)) &\n",
    "                      (data['week_no'] < data['week_no'].max() - (val_lvl_2_size_weeks))]\n",
    "\n",
    "data_train_lvl_2 = data_val_lvl_1.copy()\n",
    "data_val_lvl_2 = data[data['week_no'] >= data['week_no'].max() - val_lvl_2_size_weeks]\n",
    "\n",
    "data_train_lvl_1.head(2)"
   ]
  },
  {
   "cell_type": "code",
   "execution_count": 162,
   "metadata": {},
   "outputs": [
    {
     "name": "stdout",
     "output_type": "stream",
     "text": [
      "Decreased # items from 83685 to 5001\n"
     ]
    }
   ],
   "source": [
    "n_items_before = data_train_lvl_1['item_id'].nunique()\n",
    "\n",
    "data_train_lvl_1 = prefilter_items(data_train_lvl_1)\n",
    "\n",
    "n_items_after = data_train_lvl_1['item_id'].nunique()\n",
    "print('Decreased # items from {} to {}'.format(n_items_before, n_items_after))"
   ]
  },
  {
   "cell_type": "markdown",
   "metadata": {},
   "source": [
    "# Обучим модель первого уровня"
   ]
  },
  {
   "cell_type": "markdown",
   "metadata": {},
   "source": [
    "В results будем складывать промежуточные и финальные предсказания и метрики "
   ]
  },
  {
   "cell_type": "code",
   "execution_count": 163,
   "metadata": {},
   "outputs": [],
   "source": [
    "from lightfm import LightFM\n",
    "from lightfm.evaluation import precision_at_k, recall_at_k"
   ]
  },
  {
   "cell_type": "markdown",
   "metadata": {},
   "source": [
    "data_train_lvl_1\n",
    "data_val_lvl_1\n",
    "data_train_lvl_2\n",
    "data_val_lvl_2"
   ]
  },
  {
   "cell_type": "code",
   "execution_count": 164,
   "metadata": {},
   "outputs": [],
   "source": [
    "user_item_matrix = recommender._prepare_matrix(data_train_lvl_1)\n",
    "# переведем в формат sparse matrix\n",
    "sparse_user_item = csr_matrix(user_item_matrix).tocsr()"
   ]
  },
  {
   "cell_type": "markdown",
   "metadata": {},
   "source": [
    "id_to_itemid, id_to_userid, itemid_to_id, userid_to_id = \\\n",
    "    recommender._prepare_dicts(user_item_matrix)"
   ]
  },
  {
   "cell_type": "markdown",
   "metadata": {},
   "source": [
    "user_features_lfm = user_features.set_index('user_id')\n",
    "item_features_lfm = item_features.set_index('item_id')"
   ]
  },
  {
   "cell_type": "markdown",
   "metadata": {},
   "source": [
    "model = LightFM(no_components=10,\n",
    "                loss='bpr', # 'warp'\n",
    "                learning_rate=0.05, \n",
    "                item_alpha=0.1, user_alpha=0.1, \n",
    "                random_state=42)\n",
    "\n",
    "model.fit((sparse_user_item > 0) * 1,  # user-item matrix из 0 и 1\n",
    "          sample_weight=coo_matrix(user_item_matrix),\n",
    "          user_features=user_features_lfm,\n",
    "          item_features=item_features_lfm,\n",
    "          epochs=15, \n",
    "          num_threads=4) "
   ]
  },
  {
   "cell_type": "code",
   "execution_count": 165,
   "metadata": {},
   "outputs": [
    {
     "data": {
      "text/html": [
       "<div>\n",
       "<style scoped>\n",
       "    .dataframe tbody tr th:only-of-type {\n",
       "        vertical-align: middle;\n",
       "    }\n",
       "\n",
       "    .dataframe tbody tr th {\n",
       "        vertical-align: top;\n",
       "    }\n",
       "\n",
       "    .dataframe thead th {\n",
       "        text-align: right;\n",
       "    }\n",
       "</style>\n",
       "<table border=\"1\" class=\"dataframe\">\n",
       "  <thead>\n",
       "    <tr style=\"text-align: right;\">\n",
       "      <th></th>\n",
       "      <th>user_id</th>\n",
       "      <th>actual</th>\n",
       "    </tr>\n",
       "  </thead>\n",
       "  <tbody>\n",
       "    <tr>\n",
       "      <th>0</th>\n",
       "      <td>1</td>\n",
       "      <td>[853529, 865456, 867607, 872137, 874905, 87524...</td>\n",
       "    </tr>\n",
       "    <tr>\n",
       "      <th>1</th>\n",
       "      <td>2</td>\n",
       "      <td>[15830248, 838136, 839656, 861272, 866211, 870...</td>\n",
       "    </tr>\n",
       "  </tbody>\n",
       "</table>\n",
       "</div>"
      ],
      "text/plain": [
       "   user_id                                             actual\n",
       "0        1  [853529, 865456, 867607, 872137, 874905, 87524...\n",
       "1        2  [15830248, 838136, 839656, 861272, 866211, 870..."
      ]
     },
     "execution_count": 165,
     "metadata": {},
     "output_type": "execute_result"
    }
   ],
   "source": [
    "result = data_val_lvl_1.groupby('user_id')['item_id'].unique().reset_index()\n",
    "result.columns=['user_id', 'actual']\n",
    "result.head(2)"
   ]
  },
  {
   "cell_type": "code",
   "execution_count": 166,
   "metadata": {},
   "outputs": [
    {
     "data": {
      "application/vnd.jupyter.widget-view+json": {
       "model_id": "e804a64f2f9a43d481d324bc06f0ce74",
       "version_major": 2,
       "version_minor": 0
      },
      "text/plain": [
       "HBox(children=(HTML(value=''), FloatProgress(value=0.0, max=15.0), HTML(value='')))"
      ]
     },
     "metadata": {},
     "output_type": "display_data"
    },
    {
     "name": "stdout",
     "output_type": "stream",
     "text": [
      "\n"
     ]
    },
    {
     "data": {
      "application/vnd.jupyter.widget-view+json": {
       "model_id": "fe22fa33b59849748964a9569313c86c",
       "version_major": 2,
       "version_minor": 0
      },
      "text/plain": [
       "HBox(children=(HTML(value=''), FloatProgress(value=0.0, max=5001.0), HTML(value='')))"
      ]
     },
     "metadata": {},
     "output_type": "display_data"
    },
    {
     "name": "stdout",
     "output_type": "stream",
     "text": [
      "\n"
     ]
    }
   ],
   "source": [
    "recommender = MainRecommender(data_train_lvl_1, n_factors=10, regularization=0.001, iterations=15, num_threads=4)\n"
   ]
  },
  {
   "cell_type": "code",
   "execution_count": 178,
   "metadata": {},
   "outputs": [],
   "source": [
    "def get_1lvl_recommendations(user_id, recommender, N=5): \n",
    "    als_rec = recommender.get_als_recommendations(user_id, N=N)\n",
    "    return als_rec[:N]"
   ]
  },
  {
   "cell_type": "code",
   "execution_count": 168,
   "metadata": {},
   "outputs": [],
   "source": [
    "def prefilter_test(data_test, data_train):\n",
    "    data_test.loc[~data_test['user_id'].isin(data_train['user_id'])] = 999999\n",
    "    data_test = data_test.drop(index=data_test.loc[data_val_lvl_1['user_id']==999999].index)\n",
    "    return data_test"
   ]
  },
  {
   "cell_type": "code",
   "execution_count": 169,
   "metadata": {},
   "outputs": [],
   "source": [
    "def get_rec_all_users(data, recommender, N=5):\n",
    "    rec = []\n",
    "    for x in set(data['user_id']):\n",
    "        rec.append(get_1lvl_recommendations(user_id=x, recommender=recommender, N=N))\n",
    "    rec_series = pd.Series(rec)\n",
    "    return rec_series"
   ]
  },
  {
   "cell_type": "code",
   "execution_count": 170,
   "metadata": {},
   "outputs": [
    {
     "name": "stderr",
     "output_type": "stream",
     "text": [
      "/Users/maximcucer/opt/anaconda3/lib/python3.8/site-packages/pandas/core/indexing.py:1765: SettingWithCopyWarning: \n",
      "A value is trying to be set on a copy of a slice from a DataFrame.\n",
      "Try using .loc[row_indexer,col_indexer] = value instead\n",
      "\n",
      "See the caveats in the documentation: https://pandas.pydata.org/pandas-docs/stable/user_guide/indexing.html#returning-a-view-versus-a-copy\n",
      "  isetter(loc, value)\n"
     ]
    }
   ],
   "source": [
    "data_val_lvl_1 = prefilter_test(data_val_lvl_1, data_train_lvl_1)"
   ]
  },
  {
   "cell_type": "code",
   "execution_count": 179,
   "metadata": {},
   "outputs": [
    {
     "name": "stdout",
     "output_type": "stream",
     "text": [
      "CPU times: user 17.4 s, sys: 1.49 s, total: 18.9 s\n",
      "Wall time: 9.98 s\n"
     ]
    }
   ],
   "source": [
    "%%time\n",
    "rec_series = get_rec_all_users(data_val_lvl_1, recommender=recommender, N=5)"
   ]
  },
  {
   "cell_type": "code",
   "execution_count": 180,
   "metadata": {},
   "outputs": [],
   "source": [
    "result['rec_1'] = rec_series"
   ]
  },
  {
   "cell_type": "code",
   "execution_count": 181,
   "metadata": {},
   "outputs": [],
   "source": [
    "result = result.dropna(axis=0)"
   ]
  },
  {
   "cell_type": "code",
   "execution_count": 182,
   "metadata": {},
   "outputs": [],
   "source": [
    "# 0,036 sim_usr\n",
    "# 0,011 sim_item\n",
    "# 0,024 own\n",
    "# 0.052 als"
   ]
  },
  {
   "cell_type": "code",
   "execution_count": 183,
   "metadata": {},
   "outputs": [
    {
     "data": {
      "text/plain": [
       "0.0523477452347749"
      ]
     },
     "execution_count": 183,
     "metadata": {},
     "output_type": "execute_result"
    }
   ],
   "source": [
    "result.apply(lambda row: precision_at_k(row['rec_1'], row['actual']), axis=1).mean()"
   ]
  },
  {
   "cell_type": "code",
   "execution_count": 185,
   "metadata": {},
   "outputs": [
    {
     "data": {
      "text/html": [
       "<div>\n",
       "<style scoped>\n",
       "    .dataframe tbody tr th:only-of-type {\n",
       "        vertical-align: middle;\n",
       "    }\n",
       "\n",
       "    .dataframe tbody tr th {\n",
       "        vertical-align: top;\n",
       "    }\n",
       "\n",
       "    .dataframe thead th {\n",
       "        text-align: right;\n",
       "    }\n",
       "</style>\n",
       "<table border=\"1\" class=\"dataframe\">\n",
       "  <thead>\n",
       "    <tr style=\"text-align: right;\">\n",
       "      <th></th>\n",
       "      <th>user_id</th>\n",
       "      <th>actual</th>\n",
       "      <th>rec_1</th>\n",
       "    </tr>\n",
       "  </thead>\n",
       "  <tbody>\n",
       "    <tr>\n",
       "      <th>0</th>\n",
       "      <td>1</td>\n",
       "      <td>[853529, 865456, 867607, 872137, 874905, 87524...</td>\n",
       "      <td>[1135983, 856942, 885290, 959455, 5566472]</td>\n",
       "    </tr>\n",
       "    <tr>\n",
       "      <th>1</th>\n",
       "      <td>2</td>\n",
       "      <td>[15830248, 838136, 839656, 861272, 866211, 870...</td>\n",
       "      <td>[1029743, 866211, 916122, 5569230, 844179]</td>\n",
       "    </tr>\n",
       "    <tr>\n",
       "      <th>2</th>\n",
       "      <td>4</td>\n",
       "      <td>[883932, 970760, 1035676, 1055863, 1097610, 67...</td>\n",
       "      <td>[5568378, 1116020, 1137346, 8090521, 907631]</td>\n",
       "    </tr>\n",
       "    <tr>\n",
       "      <th>3</th>\n",
       "      <td>6</td>\n",
       "      <td>[1024306, 1102949, 6548453, 835394, 940804, 96...</td>\n",
       "      <td>[854852, 896613, 871611, 878996, 965267]</td>\n",
       "    </tr>\n",
       "    <tr>\n",
       "      <th>4</th>\n",
       "      <td>7</td>\n",
       "      <td>[836281, 843306, 845294, 914190, 920456, 93886...</td>\n",
       "      <td>[839419, 912451, 8273950, 1067779, 8273833]</td>\n",
       "    </tr>\n",
       "  </tbody>\n",
       "</table>\n",
       "</div>"
      ],
      "text/plain": [
       "   user_id                                             actual  \\\n",
       "0        1  [853529, 865456, 867607, 872137, 874905, 87524...   \n",
       "1        2  [15830248, 838136, 839656, 861272, 866211, 870...   \n",
       "2        4  [883932, 970760, 1035676, 1055863, 1097610, 67...   \n",
       "3        6  [1024306, 1102949, 6548453, 835394, 940804, 96...   \n",
       "4        7  [836281, 843306, 845294, 914190, 920456, 93886...   \n",
       "\n",
       "                                          rec_1  \n",
       "0    [1135983, 856942, 885290, 959455, 5566472]  \n",
       "1    [1029743, 866211, 916122, 5569230, 844179]  \n",
       "2  [5568378, 1116020, 1137346, 8090521, 907631]  \n",
       "3      [854852, 896613, 871611, 878996, 965267]  \n",
       "4   [839419, 912451, 8273950, 1067779, 8273833]  "
      ]
     },
     "execution_count": 185,
     "metadata": {},
     "output_type": "execute_result"
    }
   ],
   "source": [
    "result.head()"
   ]
  },
  {
   "cell_type": "code",
   "execution_count": 1,
   "metadata": {},
   "outputs": [],
   "source": [
    "# get_1lvl_recommendations(, recommender, N=5)"
   ]
  },
  {
   "cell_type": "markdown",
   "metadata": {},
   "source": [
    "# Обучаем модель 2-ого уровня на выбранных кандидатах\n",
    "\n",
    "- Обучаем на data_train_lvl_2\n",
    "- Обучаем *только* на выбранных кандидатах\n",
    "- Я *для примера* сгенерирую топ-50 кадидиатов через get_own_recommendations\n",
    "- (!) Если юзер купил < 50 товаров, то get_own_recommendations дополнит рекоммендации топ-популярными"
   ]
  },
  {
   "cell_type": "code",
   "execution_count": null,
   "metadata": {},
   "outputs": [],
   "source": [
    "# -- давние покупки -- | -- 6 недель -- | -- 3 недель -- "
   ]
  },
  {
   "cell_type": "code",
   "execution_count": 186,
   "metadata": {},
   "outputs": [
    {
     "name": "stdout",
     "output_type": "stream",
     "text": [
      "CPU times: user 17.8 s, sys: 1.39 s, total: 19.2 s\n",
      "Wall time: 11.4 s\n"
     ]
    }
   ],
   "source": [
    "%%time\n",
    "users_lvl_2 = pd.DataFrame(data_train_lvl_2['user_id'].unique())\n",
    "users_lvl_2.columns = ['user_id']\n",
    "\n",
    "# Пока только warm start\n",
    "train_users = data_train_lvl_1['user_id'].unique()\n",
    "users_lvl_2 = users_lvl_2[users_lvl_2['user_id'].isin(train_users)]\n",
    "\n",
    "users_lvl_2['candidates'] = users_lvl_2['user_id'].apply(lambda x: get_1lvl_recommendations(x, recommender=recommender, N=50))\n"
   ]
  },
  {
   "cell_type": "code",
   "execution_count": null,
   "metadata": {},
   "outputs": [],
   "source": []
  },
  {
   "cell_type": "code",
   "execution_count": null,
   "metadata": {},
   "outputs": [],
   "source": []
  },
  {
   "cell_type": "code",
   "execution_count": 187,
   "metadata": {},
   "outputs": [
    {
     "data": {
      "text/html": [
       "<div>\n",
       "<style scoped>\n",
       "    .dataframe tbody tr th:only-of-type {\n",
       "        vertical-align: middle;\n",
       "    }\n",
       "\n",
       "    .dataframe tbody tr th {\n",
       "        vertical-align: top;\n",
       "    }\n",
       "\n",
       "    .dataframe thead th {\n",
       "        text-align: right;\n",
       "    }\n",
       "</style>\n",
       "<table border=\"1\" class=\"dataframe\">\n",
       "  <thead>\n",
       "    <tr style=\"text-align: right;\">\n",
       "      <th></th>\n",
       "      <th>user_id</th>\n",
       "      <th>candidates</th>\n",
       "    </tr>\n",
       "  </thead>\n",
       "  <tbody>\n",
       "    <tr>\n",
       "      <th>0</th>\n",
       "      <td>2070</td>\n",
       "      <td>[899624, 844179, 1029743, 5569230, 12810391, 8...</td>\n",
       "    </tr>\n",
       "    <tr>\n",
       "      <th>1</th>\n",
       "      <td>2021</td>\n",
       "      <td>[1044078, 944534, 844179, 871756, 899624, 1106...</td>\n",
       "    </tr>\n",
       "    <tr>\n",
       "      <th>2</th>\n",
       "      <td>1753</td>\n",
       "      <td>[1106523, 1029743, 5569230, 8090537, 1013928, ...</td>\n",
       "    </tr>\n",
       "    <tr>\n",
       "      <th>3</th>\n",
       "      <td>2120</td>\n",
       "      <td>[1044078, 1106523, 1005186, 5585510, 844179, 1...</td>\n",
       "    </tr>\n",
       "    <tr>\n",
       "      <th>4</th>\n",
       "      <td>1346</td>\n",
       "      <td>[8293439, 5569374, 12352172, 6533936, 5577022,...</td>\n",
       "    </tr>\n",
       "  </tbody>\n",
       "</table>\n",
       "</div>"
      ],
      "text/plain": [
       "   user_id                                         candidates\n",
       "0     2070  [899624, 844179, 1029743, 5569230, 12810391, 8...\n",
       "1     2021  [1044078, 944534, 844179, 871756, 899624, 1106...\n",
       "2     1753  [1106523, 1029743, 5569230, 8090537, 1013928, ...\n",
       "3     2120  [1044078, 1106523, 1005186, 5585510, 844179, 1...\n",
       "4     1346  [8293439, 5569374, 12352172, 6533936, 5577022,..."
      ]
     },
     "execution_count": 187,
     "metadata": {},
     "output_type": "execute_result"
    }
   ],
   "source": [
    "users_lvl_2.head()"
   ]
  },
  {
   "cell_type": "code",
   "execution_count": 188,
   "metadata": {},
   "outputs": [
    {
     "data": {
      "text/plain": [
       "(2151, 2)"
      ]
     },
     "execution_count": 188,
     "metadata": {},
     "output_type": "execute_result"
    }
   ],
   "source": [
    "users_lvl_2.shape"
   ]
  },
  {
   "cell_type": "code",
   "execution_count": 189,
   "metadata": {},
   "outputs": [
    {
     "data": {
      "text/plain": [
       "50"
      ]
     },
     "execution_count": 189,
     "metadata": {},
     "output_type": "execute_result"
    }
   ],
   "source": [
    "len(users_lvl_2['candidates'][0])"
   ]
  },
  {
   "cell_type": "markdown",
   "metadata": {},
   "source": [
    "[Как эффективно вытянуть нашу обучающую выборку](https://stackoverflow.com/questions/53218931/how-to-unnest-explode-a-column-in-a-pandas-dataframe)"
   ]
  },
  {
   "cell_type": "code",
   "execution_count": 190,
   "metadata": {},
   "outputs": [],
   "source": [
    "df = pd.DataFrame({'user_id':users_lvl_2.user_id.values.repeat(len(users_lvl_2.candidates[0])),\n",
    "                 'item_id':np.concatenate(users_lvl_2.candidates.values)})"
   ]
  },
  {
   "cell_type": "code",
   "execution_count": 191,
   "metadata": {},
   "outputs": [
    {
     "data": {
      "text/plain": [
       "True"
      ]
     },
     "execution_count": 191,
     "metadata": {},
     "output_type": "execute_result"
    }
   ],
   "source": [
    "len(df) == users_lvl_2.shape[0] * len(users_lvl_2['candidates'][0])"
   ]
  },
  {
   "cell_type": "code",
   "execution_count": 192,
   "metadata": {},
   "outputs": [
    {
     "data": {
      "text/html": [
       "<div>\n",
       "<style scoped>\n",
       "    .dataframe tbody tr th:only-of-type {\n",
       "        vertical-align: middle;\n",
       "    }\n",
       "\n",
       "    .dataframe tbody tr th {\n",
       "        vertical-align: top;\n",
       "    }\n",
       "\n",
       "    .dataframe thead th {\n",
       "        text-align: right;\n",
       "    }\n",
       "</style>\n",
       "<table border=\"1\" class=\"dataframe\">\n",
       "  <thead>\n",
       "    <tr style=\"text-align: right;\">\n",
       "      <th></th>\n",
       "      <th>user_id</th>\n",
       "      <th>item_id</th>\n",
       "    </tr>\n",
       "  </thead>\n",
       "  <tbody>\n",
       "  </tbody>\n",
       "</table>\n",
       "</div>"
      ],
      "text/plain": [
       "Empty DataFrame\n",
       "Columns: [user_id, item_id]\n",
       "Index: []"
      ]
     },
     "execution_count": 192,
     "metadata": {},
     "output_type": "execute_result"
    }
   ],
   "source": [
    "df[df.duplicated()]"
   ]
  },
  {
   "cell_type": "code",
   "execution_count": 193,
   "metadata": {},
   "outputs": [],
   "source": [
    "targets_lvl_2 = data_train_lvl_2[['user_id', 'item_id']].copy()\n",
    "targets_lvl_2['target'] = 1  # тут только покупки \n",
    "\n",
    "targets_lvl_2 = df.merge(targets_lvl_2, on=['user_id', 'item_id'], how='left')\n",
    "\n",
    "targets_lvl_2['target'].fillna(0, inplace= True)\n"
   ]
  },
  {
   "cell_type": "code",
   "execution_count": 194,
   "metadata": {},
   "outputs": [
    {
     "data": {
      "text/plain": [
       "0.0771046847156516"
      ]
     },
     "execution_count": 194,
     "metadata": {},
     "output_type": "execute_result"
    }
   ],
   "source": [
    "targets_lvl_2['target'].mean()"
   ]
  },
  {
   "cell_type": "code",
   "execution_count": 195,
   "metadata": {},
   "outputs": [
    {
     "data": {
      "text/html": [
       "<div>\n",
       "<style scoped>\n",
       "    .dataframe tbody tr th:only-of-type {\n",
       "        vertical-align: middle;\n",
       "    }\n",
       "\n",
       "    .dataframe tbody tr th {\n",
       "        vertical-align: top;\n",
       "    }\n",
       "\n",
       "    .dataframe thead th {\n",
       "        text-align: right;\n",
       "    }\n",
       "</style>\n",
       "<table border=\"1\" class=\"dataframe\">\n",
       "  <thead>\n",
       "    <tr style=\"text-align: right;\">\n",
       "      <th></th>\n",
       "      <th>user_id</th>\n",
       "      <th>item_id</th>\n",
       "      <th>target</th>\n",
       "    </tr>\n",
       "  </thead>\n",
       "  <tbody>\n",
       "    <tr>\n",
       "      <th>0</th>\n",
       "      <td>2070</td>\n",
       "      <td>899624</td>\n",
       "      <td>1.0</td>\n",
       "    </tr>\n",
       "    <tr>\n",
       "      <th>1</th>\n",
       "      <td>2070</td>\n",
       "      <td>844179</td>\n",
       "      <td>0.0</td>\n",
       "    </tr>\n",
       "    <tr>\n",
       "      <th>2</th>\n",
       "      <td>2070</td>\n",
       "      <td>1029743</td>\n",
       "      <td>0.0</td>\n",
       "    </tr>\n",
       "    <tr>\n",
       "      <th>3</th>\n",
       "      <td>2070</td>\n",
       "      <td>5569230</td>\n",
       "      <td>0.0</td>\n",
       "    </tr>\n",
       "    <tr>\n",
       "      <th>4</th>\n",
       "      <td>2070</td>\n",
       "      <td>12810391</td>\n",
       "      <td>1.0</td>\n",
       "    </tr>\n",
       "  </tbody>\n",
       "</table>\n",
       "</div>"
      ],
      "text/plain": [
       "   user_id   item_id  target\n",
       "0     2070    899624     1.0\n",
       "1     2070    844179     0.0\n",
       "2     2070   1029743     0.0\n",
       "3     2070   5569230     0.0\n",
       "4     2070  12810391     1.0"
      ]
     },
     "execution_count": 195,
     "metadata": {},
     "output_type": "execute_result"
    }
   ],
   "source": [
    "targets_lvl_2.head()"
   ]
  },
  {
   "cell_type": "markdown",
   "metadata": {},
   "source": [
    "(!) На каждого юзера 50 item_id-кандидатов"
   ]
  },
  {
   "cell_type": "code",
   "execution_count": 196,
   "metadata": {},
   "outputs": [
    {
     "data": {
      "text/html": [
       "<div>\n",
       "<style scoped>\n",
       "    .dataframe tbody tr th:only-of-type {\n",
       "        vertical-align: middle;\n",
       "    }\n",
       "\n",
       "    .dataframe tbody tr th {\n",
       "        vertical-align: top;\n",
       "    }\n",
       "\n",
       "    .dataframe thead th {\n",
       "        text-align: right;\n",
       "    }\n",
       "</style>\n",
       "<table border=\"1\" class=\"dataframe\">\n",
       "  <thead>\n",
       "    <tr style=\"text-align: right;\">\n",
       "      <th></th>\n",
       "      <th>item_id</th>\n",
       "      <th>manufacturer</th>\n",
       "      <th>department</th>\n",
       "      <th>commodity_desc</th>\n",
       "      <th>sub_commodity_desc</th>\n",
       "      <th>curr_size_of_product</th>\n",
       "      <th>brand_National</th>\n",
       "      <th>brand_Private</th>\n",
       "      <th>mean_itmes_per_week</th>\n",
       "      <th>mean_itms_per_week_per_department</th>\n",
       "      <th>sales_value</th>\n",
       "      <th>std_value</th>\n",
       "    </tr>\n",
       "  </thead>\n",
       "  <tbody>\n",
       "    <tr>\n",
       "      <th>0</th>\n",
       "      <td>25671</td>\n",
       "      <td>2</td>\n",
       "      <td>GROCERY</td>\n",
       "      <td>FRZN ICE</td>\n",
       "      <td>ICE - CRUSHED/CUBED</td>\n",
       "      <td>22 LB</td>\n",
       "      <td>1</td>\n",
       "      <td>0</td>\n",
       "      <td>1.0</td>\n",
       "      <td>15989.789474</td>\n",
       "      <td>6.98</td>\n",
       "      <td>1.605174</td>\n",
       "    </tr>\n",
       "    <tr>\n",
       "      <th>1</th>\n",
       "      <td>26081</td>\n",
       "      <td>2</td>\n",
       "      <td>MISC. TRANS.</td>\n",
       "      <td>NO COMMODITY DESCRIPTION</td>\n",
       "      <td>NO SUBCOMMODITY DESCRIPTION</td>\n",
       "      <td></td>\n",
       "      <td>1</td>\n",
       "      <td>0</td>\n",
       "      <td>1.0</td>\n",
       "      <td>22.800000</td>\n",
       "      <td>0.99</td>\n",
       "      <td>0.227668</td>\n",
       "    </tr>\n",
       "  </tbody>\n",
       "</table>\n",
       "</div>"
      ],
      "text/plain": [
       "   item_id  manufacturer    department            commodity_desc  \\\n",
       "0    25671             2       GROCERY                  FRZN ICE   \n",
       "1    26081             2  MISC. TRANS.  NO COMMODITY DESCRIPTION   \n",
       "\n",
       "            sub_commodity_desc curr_size_of_product  brand_National  \\\n",
       "0          ICE - CRUSHED/CUBED                22 LB               1   \n",
       "1  NO SUBCOMMODITY DESCRIPTION                                    1   \n",
       "\n",
       "   brand_Private  mean_itmes_per_week  mean_itms_per_week_per_department  \\\n",
       "0              0                  1.0                       15989.789474   \n",
       "1              0                  1.0                          22.800000   \n",
       "\n",
       "   sales_value  std_value  \n",
       "0         6.98   1.605174  \n",
       "1         0.99   0.227668  "
      ]
     },
     "execution_count": 196,
     "metadata": {},
     "output_type": "execute_result"
    }
   ],
   "source": [
    "item_features.head(2)"
   ]
  },
  {
   "cell_type": "code",
   "execution_count": 197,
   "metadata": {},
   "outputs": [
    {
     "data": {
      "text/html": [
       "<div>\n",
       "<style scoped>\n",
       "    .dataframe tbody tr th:only-of-type {\n",
       "        vertical-align: middle;\n",
       "    }\n",
       "\n",
       "    .dataframe tbody tr th {\n",
       "        vertical-align: top;\n",
       "    }\n",
       "\n",
       "    .dataframe thead th {\n",
       "        text-align: right;\n",
       "    }\n",
       "</style>\n",
       "<table border=\"1\" class=\"dataframe\">\n",
       "  <thead>\n",
       "    <tr style=\"text-align: right;\">\n",
       "      <th></th>\n",
       "      <th>age_desc</th>\n",
       "      <th>income_desc</th>\n",
       "      <th>household_size_desc</th>\n",
       "      <th>kid_category_desc</th>\n",
       "      <th>user_id</th>\n",
       "      <th>marital_status_code_A</th>\n",
       "      <th>marital_status_code_B</th>\n",
       "      <th>marital_status_code_U</th>\n",
       "      <th>homeowner_desc_Homeowner</th>\n",
       "      <th>homeowner_desc_Probable Owner</th>\n",
       "      <th>...</th>\n",
       "      <th>hh_comp_desc_1 Adult Kids</th>\n",
       "      <th>hh_comp_desc_2 Adults Kids</th>\n",
       "      <th>hh_comp_desc_2 Adults No Kids</th>\n",
       "      <th>hh_comp_desc_Single Female</th>\n",
       "      <th>hh_comp_desc_Single Male</th>\n",
       "      <th>hh_comp_desc_Unknown</th>\n",
       "      <th>mean_sales_value</th>\n",
       "      <th>department</th>\n",
       "      <th>mean_check_per_department</th>\n",
       "      <th>basket_id</th>\n",
       "    </tr>\n",
       "  </thead>\n",
       "  <tbody>\n",
       "    <tr>\n",
       "      <th>0</th>\n",
       "      <td>5</td>\n",
       "      <td>3</td>\n",
       "      <td>2</td>\n",
       "      <td>0</td>\n",
       "      <td>1</td>\n",
       "      <td>1</td>\n",
       "      <td>0</td>\n",
       "      <td>0</td>\n",
       "      <td>1</td>\n",
       "      <td>0</td>\n",
       "      <td>...</td>\n",
       "      <td>0</td>\n",
       "      <td>0</td>\n",
       "      <td>1</td>\n",
       "      <td>0</td>\n",
       "      <td>0</td>\n",
       "      <td>0</td>\n",
       "      <td>2.741772</td>\n",
       "      <td></td>\n",
       "      <td>0.000000</td>\n",
       "      <td>24.828125</td>\n",
       "    </tr>\n",
       "    <tr>\n",
       "      <th>0</th>\n",
       "      <td>5</td>\n",
       "      <td>3</td>\n",
       "      <td>2</td>\n",
       "      <td>0</td>\n",
       "      <td>1</td>\n",
       "      <td>1</td>\n",
       "      <td>0</td>\n",
       "      <td>0</td>\n",
       "      <td>1</td>\n",
       "      <td>0</td>\n",
       "      <td>...</td>\n",
       "      <td>0</td>\n",
       "      <td>0</td>\n",
       "      <td>1</td>\n",
       "      <td>0</td>\n",
       "      <td>0</td>\n",
       "      <td>0</td>\n",
       "      <td>2.741772</td>\n",
       "      <td>DELI</td>\n",
       "      <td>4.846757</td>\n",
       "      <td>24.828125</td>\n",
       "    </tr>\n",
       "  </tbody>\n",
       "</table>\n",
       "<p>2 rows × 23 columns</p>\n",
       "</div>"
      ],
      "text/plain": [
       "  age_desc income_desc household_size_desc kid_category_desc  user_id  \\\n",
       "0        5           3                   2                 0        1   \n",
       "0        5           3                   2                 0        1   \n",
       "\n",
       "   marital_status_code_A  marital_status_code_B  marital_status_code_U  \\\n",
       "0                      1                      0                      0   \n",
       "0                      1                      0                      0   \n",
       "\n",
       "   homeowner_desc_Homeowner  homeowner_desc_Probable Owner  ...  \\\n",
       "0                         1                              0  ...   \n",
       "0                         1                              0  ...   \n",
       "\n",
       "   hh_comp_desc_1 Adult Kids  hh_comp_desc_2 Adults Kids  \\\n",
       "0                          0                           0   \n",
       "0                          0                           0   \n",
       "\n",
       "   hh_comp_desc_2 Adults No Kids  hh_comp_desc_Single Female  \\\n",
       "0                              1                           0   \n",
       "0                              1                           0   \n",
       "\n",
       "   hh_comp_desc_Single Male  hh_comp_desc_Unknown  mean_sales_value  \\\n",
       "0                         0                     0          2.741772   \n",
       "0                         0                     0          2.741772   \n",
       "\n",
       "   department  mean_check_per_department  basket_id  \n",
       "0                               0.000000  24.828125  \n",
       "0        DELI                   4.846757  24.828125  \n",
       "\n",
       "[2 rows x 23 columns]"
      ]
     },
     "execution_count": 197,
     "metadata": {},
     "output_type": "execute_result"
    }
   ],
   "source": [
    "user_features.head(2)"
   ]
  },
  {
   "cell_type": "code",
   "execution_count": 198,
   "metadata": {},
   "outputs": [
    {
     "data": {
      "text/html": [
       "<div>\n",
       "<style scoped>\n",
       "    .dataframe tbody tr th:only-of-type {\n",
       "        vertical-align: middle;\n",
       "    }\n",
       "\n",
       "    .dataframe tbody tr th {\n",
       "        vertical-align: top;\n",
       "    }\n",
       "\n",
       "    .dataframe thead th {\n",
       "        text-align: right;\n",
       "    }\n",
       "</style>\n",
       "<table border=\"1\" class=\"dataframe\">\n",
       "  <thead>\n",
       "    <tr style=\"text-align: right;\">\n",
       "      <th></th>\n",
       "      <th>user_id</th>\n",
       "      <th>item_id</th>\n",
       "      <th>target</th>\n",
       "      <th>manufacturer</th>\n",
       "      <th>department_x</th>\n",
       "      <th>commodity_desc</th>\n",
       "      <th>sub_commodity_desc</th>\n",
       "      <th>curr_size_of_product</th>\n",
       "      <th>brand_National</th>\n",
       "      <th>brand_Private</th>\n",
       "      <th>...</th>\n",
       "      <th>hh_comp_desc_1 Adult Kids</th>\n",
       "      <th>hh_comp_desc_2 Adults Kids</th>\n",
       "      <th>hh_comp_desc_2 Adults No Kids</th>\n",
       "      <th>hh_comp_desc_Single Female</th>\n",
       "      <th>hh_comp_desc_Single Male</th>\n",
       "      <th>hh_comp_desc_Unknown</th>\n",
       "      <th>mean_sales_value</th>\n",
       "      <th>department_y</th>\n",
       "      <th>mean_check_per_department</th>\n",
       "      <th>basket_id</th>\n",
       "    </tr>\n",
       "  </thead>\n",
       "  <tbody>\n",
       "    <tr>\n",
       "      <th>0</th>\n",
       "      <td>2070</td>\n",
       "      <td>899624</td>\n",
       "      <td>1.0</td>\n",
       "      <td>69</td>\n",
       "      <td>PRODUCE</td>\n",
       "      <td>POTATOES</td>\n",
       "      <td>POTATOES RUSSET (BULK&amp;BAG)</td>\n",
       "      <td>10 LB</td>\n",
       "      <td>0</td>\n",
       "      <td>1</td>\n",
       "      <td>...</td>\n",
       "      <td>0.0</td>\n",
       "      <td>0.0</td>\n",
       "      <td>0.0</td>\n",
       "      <td>0.0</td>\n",
       "      <td>0.0</td>\n",
       "      <td>1.0</td>\n",
       "      <td>2.390334</td>\n",
       "      <td></td>\n",
       "      <td>0.00</td>\n",
       "      <td>29.45122</td>\n",
       "    </tr>\n",
       "    <tr>\n",
       "      <th>1</th>\n",
       "      <td>2070</td>\n",
       "      <td>899624</td>\n",
       "      <td>1.0</td>\n",
       "      <td>69</td>\n",
       "      <td>PRODUCE</td>\n",
       "      <td>POTATOES</td>\n",
       "      <td>POTATOES RUSSET (BULK&amp;BAG)</td>\n",
       "      <td>10 LB</td>\n",
       "      <td>0</td>\n",
       "      <td>1</td>\n",
       "      <td>...</td>\n",
       "      <td>0.0</td>\n",
       "      <td>0.0</td>\n",
       "      <td>0.0</td>\n",
       "      <td>0.0</td>\n",
       "      <td>0.0</td>\n",
       "      <td>1.0</td>\n",
       "      <td>2.390334</td>\n",
       "      <td>CHEF SHOPPE</td>\n",
       "      <td>3.24</td>\n",
       "      <td>29.45122</td>\n",
       "    </tr>\n",
       "  </tbody>\n",
       "</table>\n",
       "<p>2 rows × 36 columns</p>\n",
       "</div>"
      ],
      "text/plain": [
       "   user_id  item_id  target  manufacturer department_x commodity_desc  \\\n",
       "0     2070   899624     1.0            69      PRODUCE       POTATOES   \n",
       "1     2070   899624     1.0            69      PRODUCE       POTATOES   \n",
       "\n",
       "           sub_commodity_desc curr_size_of_product  brand_National  \\\n",
       "0  POTATOES RUSSET (BULK&BAG)                10 LB               0   \n",
       "1  POTATOES RUSSET (BULK&BAG)                10 LB               0   \n",
       "\n",
       "   brand_Private  ...  hh_comp_desc_1 Adult Kids  hh_comp_desc_2 Adults Kids  \\\n",
       "0              1  ...                        0.0                         0.0   \n",
       "1              1  ...                        0.0                         0.0   \n",
       "\n",
       "   hh_comp_desc_2 Adults No Kids  hh_comp_desc_Single Female  \\\n",
       "0                            0.0                         0.0   \n",
       "1                            0.0                         0.0   \n",
       "\n",
       "  hh_comp_desc_Single Male hh_comp_desc_Unknown mean_sales_value department_y  \\\n",
       "0                      0.0                  1.0         2.390334                \n",
       "1                      0.0                  1.0         2.390334  CHEF SHOPPE   \n",
       "\n",
       "   mean_check_per_department  basket_id  \n",
       "0                       0.00   29.45122  \n",
       "1                       3.24   29.45122  \n",
       "\n",
       "[2 rows x 36 columns]"
      ]
     },
     "execution_count": 198,
     "metadata": {},
     "output_type": "execute_result"
    }
   ],
   "source": [
    "targets_lvl_2 = targets_lvl_2.merge(item_features, on='item_id', how='left')\n",
    "targets_lvl_2 = targets_lvl_2.merge(user_features, on='user_id', how='left')\n",
    "\n",
    "targets_lvl_2.head(2)"
   ]
  },
  {
   "cell_type": "code",
   "execution_count": 199,
   "metadata": {},
   "outputs": [],
   "source": [
    "X_train = targets_lvl_2.drop('target', axis=1)\n",
    "y_train = targets_lvl_2[['target']]"
   ]
  },
  {
   "cell_type": "code",
   "execution_count": 200,
   "metadata": {},
   "outputs": [
    {
     "data": {
      "text/html": [
       "<div>\n",
       "<style scoped>\n",
       "    .dataframe tbody tr th:only-of-type {\n",
       "        vertical-align: middle;\n",
       "    }\n",
       "\n",
       "    .dataframe tbody tr th {\n",
       "        vertical-align: top;\n",
       "    }\n",
       "\n",
       "    .dataframe thead th {\n",
       "        text-align: right;\n",
       "    }\n",
       "</style>\n",
       "<table border=\"1\" class=\"dataframe\">\n",
       "  <thead>\n",
       "    <tr style=\"text-align: right;\">\n",
       "      <th></th>\n",
       "      <th>target</th>\n",
       "    </tr>\n",
       "  </thead>\n",
       "  <tbody>\n",
       "    <tr>\n",
       "      <th>0</th>\n",
       "      <td>1.0</td>\n",
       "    </tr>\n",
       "    <tr>\n",
       "      <th>1</th>\n",
       "      <td>1.0</td>\n",
       "    </tr>\n",
       "    <tr>\n",
       "      <th>2</th>\n",
       "      <td>1.0</td>\n",
       "    </tr>\n",
       "    <tr>\n",
       "      <th>3</th>\n",
       "      <td>1.0</td>\n",
       "    </tr>\n",
       "    <tr>\n",
       "      <th>4</th>\n",
       "      <td>1.0</td>\n",
       "    </tr>\n",
       "  </tbody>\n",
       "</table>\n",
       "</div>"
      ],
      "text/plain": [
       "   target\n",
       "0     1.0\n",
       "1     1.0\n",
       "2     1.0\n",
       "3     1.0\n",
       "4     1.0"
      ]
     },
     "execution_count": 200,
     "metadata": {},
     "output_type": "execute_result"
    }
   ],
   "source": [
    "y_train.head()"
   ]
  },
  {
   "cell_type": "code",
   "execution_count": 201,
   "metadata": {},
   "outputs": [
    {
     "data": {
      "text/html": [
       "<div>\n",
       "<style scoped>\n",
       "    .dataframe tbody tr th:only-of-type {\n",
       "        vertical-align: middle;\n",
       "    }\n",
       "\n",
       "    .dataframe tbody tr th {\n",
       "        vertical-align: top;\n",
       "    }\n",
       "\n",
       "    .dataframe thead th {\n",
       "        text-align: right;\n",
       "    }\n",
       "</style>\n",
       "<table border=\"1\" class=\"dataframe\">\n",
       "  <thead>\n",
       "    <tr style=\"text-align: right;\">\n",
       "      <th></th>\n",
       "      <th>user_id</th>\n",
       "      <th>item_id</th>\n",
       "      <th>manufacturer</th>\n",
       "      <th>department_x</th>\n",
       "      <th>commodity_desc</th>\n",
       "      <th>sub_commodity_desc</th>\n",
       "      <th>curr_size_of_product</th>\n",
       "      <th>brand_National</th>\n",
       "      <th>brand_Private</th>\n",
       "      <th>mean_itmes_per_week</th>\n",
       "      <th>...</th>\n",
       "      <th>hh_comp_desc_1 Adult Kids</th>\n",
       "      <th>hh_comp_desc_2 Adults Kids</th>\n",
       "      <th>hh_comp_desc_2 Adults No Kids</th>\n",
       "      <th>hh_comp_desc_Single Female</th>\n",
       "      <th>hh_comp_desc_Single Male</th>\n",
       "      <th>hh_comp_desc_Unknown</th>\n",
       "      <th>mean_sales_value</th>\n",
       "      <th>department_y</th>\n",
       "      <th>mean_check_per_department</th>\n",
       "      <th>basket_id</th>\n",
       "    </tr>\n",
       "  </thead>\n",
       "  <tbody>\n",
       "    <tr>\n",
       "      <th>0</th>\n",
       "      <td>2070</td>\n",
       "      <td>899624</td>\n",
       "      <td>69</td>\n",
       "      <td>PRODUCE</td>\n",
       "      <td>POTATOES</td>\n",
       "      <td>POTATOES RUSSET (BULK&amp;BAG)</td>\n",
       "      <td>10 LB</td>\n",
       "      <td>0</td>\n",
       "      <td>1</td>\n",
       "      <td>27.452381</td>\n",
       "      <td>...</td>\n",
       "      <td>0.0</td>\n",
       "      <td>0.0</td>\n",
       "      <td>0.0</td>\n",
       "      <td>0.0</td>\n",
       "      <td>0.0</td>\n",
       "      <td>1.0</td>\n",
       "      <td>2.390334</td>\n",
       "      <td></td>\n",
       "      <td>0.000000</td>\n",
       "      <td>29.45122</td>\n",
       "    </tr>\n",
       "    <tr>\n",
       "      <th>1</th>\n",
       "      <td>2070</td>\n",
       "      <td>899624</td>\n",
       "      <td>69</td>\n",
       "      <td>PRODUCE</td>\n",
       "      <td>POTATOES</td>\n",
       "      <td>POTATOES RUSSET (BULK&amp;BAG)</td>\n",
       "      <td>10 LB</td>\n",
       "      <td>0</td>\n",
       "      <td>1</td>\n",
       "      <td>27.452381</td>\n",
       "      <td>...</td>\n",
       "      <td>0.0</td>\n",
       "      <td>0.0</td>\n",
       "      <td>0.0</td>\n",
       "      <td>0.0</td>\n",
       "      <td>0.0</td>\n",
       "      <td>1.0</td>\n",
       "      <td>2.390334</td>\n",
       "      <td>CHEF SHOPPE</td>\n",
       "      <td>3.240000</td>\n",
       "      <td>29.45122</td>\n",
       "    </tr>\n",
       "    <tr>\n",
       "      <th>2</th>\n",
       "      <td>2070</td>\n",
       "      <td>899624</td>\n",
       "      <td>69</td>\n",
       "      <td>PRODUCE</td>\n",
       "      <td>POTATOES</td>\n",
       "      <td>POTATOES RUSSET (BULK&amp;BAG)</td>\n",
       "      <td>10 LB</td>\n",
       "      <td>0</td>\n",
       "      <td>1</td>\n",
       "      <td>27.452381</td>\n",
       "      <td>...</td>\n",
       "      <td>0.0</td>\n",
       "      <td>0.0</td>\n",
       "      <td>0.0</td>\n",
       "      <td>0.0</td>\n",
       "      <td>0.0</td>\n",
       "      <td>1.0</td>\n",
       "      <td>2.390334</td>\n",
       "      <td>COSMETICS</td>\n",
       "      <td>21.132000</td>\n",
       "      <td>29.45122</td>\n",
       "    </tr>\n",
       "    <tr>\n",
       "      <th>3</th>\n",
       "      <td>2070</td>\n",
       "      <td>899624</td>\n",
       "      <td>69</td>\n",
       "      <td>PRODUCE</td>\n",
       "      <td>POTATOES</td>\n",
       "      <td>POTATOES RUSSET (BULK&amp;BAG)</td>\n",
       "      <td>10 LB</td>\n",
       "      <td>0</td>\n",
       "      <td>1</td>\n",
       "      <td>27.452381</td>\n",
       "      <td>...</td>\n",
       "      <td>0.0</td>\n",
       "      <td>0.0</td>\n",
       "      <td>0.0</td>\n",
       "      <td>0.0</td>\n",
       "      <td>0.0</td>\n",
       "      <td>1.0</td>\n",
       "      <td>2.390334</td>\n",
       "      <td>COUP/STR &amp; MFG</td>\n",
       "      <td>4.990000</td>\n",
       "      <td>29.45122</td>\n",
       "    </tr>\n",
       "    <tr>\n",
       "      <th>4</th>\n",
       "      <td>2070</td>\n",
       "      <td>899624</td>\n",
       "      <td>69</td>\n",
       "      <td>PRODUCE</td>\n",
       "      <td>POTATOES</td>\n",
       "      <td>POTATOES RUSSET (BULK&amp;BAG)</td>\n",
       "      <td>10 LB</td>\n",
       "      <td>0</td>\n",
       "      <td>1</td>\n",
       "      <td>27.452381</td>\n",
       "      <td>...</td>\n",
       "      <td>0.0</td>\n",
       "      <td>0.0</td>\n",
       "      <td>0.0</td>\n",
       "      <td>0.0</td>\n",
       "      <td>0.0</td>\n",
       "      <td>1.0</td>\n",
       "      <td>2.390334</td>\n",
       "      <td>DELI</td>\n",
       "      <td>3.482174</td>\n",
       "      <td>29.45122</td>\n",
       "    </tr>\n",
       "  </tbody>\n",
       "</table>\n",
       "<p>5 rows × 35 columns</p>\n",
       "</div>"
      ],
      "text/plain": [
       "   user_id  item_id  manufacturer department_x commodity_desc  \\\n",
       "0     2070   899624            69      PRODUCE       POTATOES   \n",
       "1     2070   899624            69      PRODUCE       POTATOES   \n",
       "2     2070   899624            69      PRODUCE       POTATOES   \n",
       "3     2070   899624            69      PRODUCE       POTATOES   \n",
       "4     2070   899624            69      PRODUCE       POTATOES   \n",
       "\n",
       "           sub_commodity_desc curr_size_of_product  brand_National  \\\n",
       "0  POTATOES RUSSET (BULK&BAG)                10 LB               0   \n",
       "1  POTATOES RUSSET (BULK&BAG)                10 LB               0   \n",
       "2  POTATOES RUSSET (BULK&BAG)                10 LB               0   \n",
       "3  POTATOES RUSSET (BULK&BAG)                10 LB               0   \n",
       "4  POTATOES RUSSET (BULK&BAG)                10 LB               0   \n",
       "\n",
       "   brand_Private  mean_itmes_per_week  ...  hh_comp_desc_1 Adult Kids  \\\n",
       "0              1            27.452381  ...                        0.0   \n",
       "1              1            27.452381  ...                        0.0   \n",
       "2              1            27.452381  ...                        0.0   \n",
       "3              1            27.452381  ...                        0.0   \n",
       "4              1            27.452381  ...                        0.0   \n",
       "\n",
       "   hh_comp_desc_2 Adults Kids  hh_comp_desc_2 Adults No Kids  \\\n",
       "0                         0.0                            0.0   \n",
       "1                         0.0                            0.0   \n",
       "2                         0.0                            0.0   \n",
       "3                         0.0                            0.0   \n",
       "4                         0.0                            0.0   \n",
       "\n",
       "  hh_comp_desc_Single Female hh_comp_desc_Single Male hh_comp_desc_Unknown  \\\n",
       "0                        0.0                      0.0                  1.0   \n",
       "1                        0.0                      0.0                  1.0   \n",
       "2                        0.0                      0.0                  1.0   \n",
       "3                        0.0                      0.0                  1.0   \n",
       "4                        0.0                      0.0                  1.0   \n",
       "\n",
       "  mean_sales_value    department_y  mean_check_per_department  basket_id  \n",
       "0         2.390334                                   0.000000   29.45122  \n",
       "1         2.390334     CHEF SHOPPE                   3.240000   29.45122  \n",
       "2         2.390334       COSMETICS                  21.132000   29.45122  \n",
       "3         2.390334  COUP/STR & MFG                   4.990000   29.45122  \n",
       "4         2.390334            DELI                   3.482174   29.45122  \n",
       "\n",
       "[5 rows x 35 columns]"
      ]
     },
     "execution_count": 201,
     "metadata": {},
     "output_type": "execute_result"
    }
   ],
   "source": [
    "X_train.head()"
   ]
  },
  {
   "cell_type": "code",
   "execution_count": 202,
   "metadata": {},
   "outputs": [
    {
     "data": {
      "text/plain": [
       "['manufacturer',\n",
       " 'department_x',\n",
       " 'commodity_desc',\n",
       " 'sub_commodity_desc',\n",
       " 'curr_size_of_product',\n",
       " 'brand_National',\n",
       " 'brand_Private',\n",
       " 'mean_itmes_per_week',\n",
       " 'mean_itms_per_week_per_department',\n",
       " 'sales_value',\n",
       " 'std_value',\n",
       " 'age_desc',\n",
       " 'income_desc',\n",
       " 'household_size_desc',\n",
       " 'kid_category_desc',\n",
       " 'marital_status_code_A',\n",
       " 'marital_status_code_B',\n",
       " 'marital_status_code_U',\n",
       " 'homeowner_desc_Homeowner',\n",
       " 'homeowner_desc_Probable Owner',\n",
       " 'homeowner_desc_Probable Renter',\n",
       " 'homeowner_desc_Renter',\n",
       " 'homeowner_desc_Unknown',\n",
       " 'hh_comp_desc_1 Adult Kids',\n",
       " 'hh_comp_desc_2 Adults Kids',\n",
       " 'hh_comp_desc_2 Adults No Kids',\n",
       " 'hh_comp_desc_Single Female',\n",
       " 'hh_comp_desc_Single Male',\n",
       " 'hh_comp_desc_Unknown',\n",
       " 'mean_sales_value',\n",
       " 'department_y',\n",
       " 'mean_check_per_department',\n",
       " 'basket_id']"
      ]
     },
     "execution_count": 202,
     "metadata": {},
     "output_type": "execute_result"
    }
   ],
   "source": [
    "cat_feats = X_train.columns[2:].tolist()\n",
    "X_train[cat_feats] = X_train[cat_feats].astype('category')\n",
    "\n",
    "cat_feats"
   ]
  },
  {
   "cell_type": "code",
   "execution_count": 203,
   "metadata": {},
   "outputs": [
    {
     "data": {
      "text/plain": [
       "target    0.117298\n",
       "dtype: float64"
      ]
     },
     "execution_count": 203,
     "metadata": {},
     "output_type": "execute_result"
    }
   ],
   "source": [
    "y_train.mean()"
   ]
  },
  {
   "cell_type": "code",
   "execution_count": 204,
   "metadata": {},
   "outputs": [
    {
     "name": "stderr",
     "output_type": "stream",
     "text": [
      "/Users/maximcucer/opt/anaconda3/lib/python3.8/site-packages/sklearn/utils/validation.py:63: DataConversionWarning: A column-vector y was passed when a 1d array was expected. Please change the shape of y to (n_samples, ), for example using ravel().\n",
      "  return f(*args, **kwargs)\n",
      "/Users/maximcucer/opt/anaconda3/lib/python3.8/site-packages/lightgbm/basic.py:1098: UserWarning: categorical_column in param dict is overridden.\n",
      "  warnings.warn('{} in param dict is overridden.'.format(cat_alias))\n"
     ]
    },
    {
     "name": "stdout",
     "output_type": "stream",
     "text": [
      "[LightGBM] [Warning] Accuracy may be bad since you didn't explicitly set num_leaves OR 2^max_depth > num_leaves. (num_leaves=31).\n"
     ]
    }
   ],
   "source": [
    "lgb = LGBMClassifier(objective='binary', max_depth=7, categorical_column=cat_feats)\n",
    "lgb.fit(X_train, y_train)\n",
    "\n",
    "train_preds = lgb.predict_proba(X_train)"
   ]
  },
  {
   "cell_type": "markdown",
   "metadata": {},
   "source": [
    "Берем топ-k предсказаний, ранжированных по вероятности, для каждого юзера"
   ]
  },
  {
   "cell_type": "markdown",
   "metadata": {},
   "source": [
    "## Применим LightGBM Ranker"
   ]
  },
  {
   "cell_type": "markdown",
   "metadata": {},
   "source": [
    "пример ранжирования LightGBM https://medium.com/@tacucumides/learning-to-rank-with-lightgbm-code-example-in-python-843bd7b44574  \n",
    "код для ранжирования запросов\n",
    "https://mlexplained.com/2019/05/27/learning-to-rank-explained-with-code/  \n",
    "туториал ранжирования CatBoost https://github.com/catboost/tutorials/blob/master/ranking/ranking_tutorial.ipynb  \n",
    "\n"
   ]
  },
  {
   "cell_type": "code",
   "execution_count": 205,
   "metadata": {},
   "outputs": [],
   "source": [
    "from lightgbm import LGBMRanker\n",
    "\n",
    "lgb_params = { \n",
    "    'objective':'lambdarank',\n",
    "    'boosting_type': 'gbdt',\n",
    "    'n_estimators': 500,\n",
    "    'learning_rate': 0.1,\n",
    "    'max_depth': 4,\n",
    "    'categorical_column': cat_feats,\n",
    "    'random_state': 27,\n",
    "    'verbose': 1,\n",
    "    'is_unbalance': True\n",
    "}"
   ]
  },
  {
   "cell_type": "markdown",
   "metadata": {},
   "source": [
    "### Делаем группы запросов - сложный момент"
   ]
  },
  {
   "cell_type": "code",
   "execution_count": 206,
   "metadata": {},
   "outputs": [],
   "source": [
    "X_train['num'] = np.arange(len(X_train))"
   ]
  },
  {
   "cell_type": "code",
   "execution_count": 232,
   "metadata": {},
   "outputs": [
    {
     "data": {
      "text/plain": [
       "(711027, 36)"
      ]
     },
     "execution_count": 232,
     "metadata": {},
     "output_type": "execute_result"
    }
   ],
   "source": [
    "X_train.shape"
   ]
  },
  {
   "cell_type": "code",
   "execution_count": 208,
   "metadata": {},
   "outputs": [],
   "source": [
    "gr = X_train[['user_id', 'num']].groupby('user_id', sort=False).max()['num'].values"
   ]
  },
  {
   "cell_type": "code",
   "execution_count": 209,
   "metadata": {},
   "outputs": [
    {
     "data": {
      "text/plain": [
       "array([   999,   1050,   1914, ..., 710476, 710526, 711026])"
      ]
     },
     "execution_count": 209,
     "metadata": {},
     "output_type": "execute_result"
    }
   ],
   "source": [
    "gr"
   ]
  },
  {
   "cell_type": "code",
   "execution_count": 210,
   "metadata": {},
   "outputs": [],
   "source": [
    "grs = np.concatenate((np.array([gr[0]+1]), gr[1:] - gr[:-1]))"
   ]
  },
  {
   "cell_type": "code",
   "execution_count": 211,
   "metadata": {},
   "outputs": [
    {
     "data": {
      "text/plain": [
       "array([1000,   51,  864, ...,   50,   50,  500])"
      ]
     },
     "execution_count": 211,
     "metadata": {},
     "output_type": "execute_result"
    }
   ],
   "source": [
    "grs"
   ]
  },
  {
   "cell_type": "code",
   "execution_count": 212,
   "metadata": {},
   "outputs": [
    {
     "data": {
      "text/plain": [
       "(711027, 36)"
      ]
     },
     "execution_count": 212,
     "metadata": {},
     "output_type": "execute_result"
    }
   ],
   "source": [
    "X_train.shape"
   ]
  },
  {
   "cell_type": "code",
   "execution_count": 213,
   "metadata": {},
   "outputs": [
    {
     "data": {
      "text/plain": [
       "(711027, 1)"
      ]
     },
     "execution_count": 213,
     "metadata": {},
     "output_type": "execute_result"
    }
   ],
   "source": [
    "y_train.shape"
   ]
  },
  {
   "cell_type": "code",
   "execution_count": 214,
   "metadata": {},
   "outputs": [
    {
     "data": {
      "text/plain": [
       "711027"
      ]
     },
     "execution_count": 214,
     "metadata": {},
     "output_type": "execute_result"
    }
   ],
   "source": [
    "np.sum(grs)"
   ]
  },
  {
   "cell_type": "code",
   "execution_count": 215,
   "metadata": {},
   "outputs": [],
   "source": [
    "lgb = LGBMRanker(**lgb_params, silent=False)"
   ]
  },
  {
   "cell_type": "code",
   "execution_count": 216,
   "metadata": {},
   "outputs": [],
   "source": [
    "lgb = LGBMRanker(**lgb_params, silent=False)\n",
    "lgb.fit(X_train, y_train, verbose_eval=-1, group=grs,\n",
    "        \n",
    "        eval_set=[(X_train, y_train)], eval_group=[grs],  \n",
    "        eval_metric=['ndcg'],\n",
    "        eval_at=[5, 10 ], early_stopping_rounds=50)"
   ]
  },
  {
   "cell_type": "code",
   "execution_count": 218,
   "metadata": {},
   "outputs": [],
   "source": [
    "train_preds_proba = pd.Series(lgb.predict(X_train)).apply(lambda x: sigmoid(x))"
   ]
  },
  {
   "cell_type": "code",
   "execution_count": 219,
   "metadata": {},
   "outputs": [],
   "source": [
    "def sigmoid(x):\n",
    "    return 1/(1 + np.exp(-x))"
   ]
  },
  {
   "cell_type": "code",
   "execution_count": 233,
   "metadata": {},
   "outputs": [
    {
     "data": {
      "text/plain": [
       "0         0.872815\n",
       "1         0.839333\n",
       "2         0.838013\n",
       "3         0.822713\n",
       "4         0.803729\n",
       "            ...   \n",
       "711022    0.007286\n",
       "711023    0.007775\n",
       "711024    0.007427\n",
       "711025    0.006347\n",
       "711026    0.006122\n",
       "Length: 711027, dtype: float64"
      ]
     },
     "execution_count": 233,
     "metadata": {},
     "output_type": "execute_result"
    }
   ],
   "source": [
    "train_preds_proba"
   ]
  },
  {
   "cell_type": "markdown",
   "metadata": {},
   "source": [
    "Соберем dataframe с предсказанными вероятностями покупки для всех N пар пользователь товар"
   ]
  },
  {
   "cell_type": "code",
   "execution_count": 220,
   "metadata": {},
   "outputs": [],
   "source": [
    "df_preds = X_train[['user_id', 'item_id']].join(other=train_preds_proba.rename('target_proba'), how='left')"
   ]
  },
  {
   "cell_type": "code",
   "execution_count": 231,
   "metadata": {},
   "outputs": [
    {
     "data": {
      "text/html": [
       "<div>\n",
       "<style scoped>\n",
       "    .dataframe tbody tr th:only-of-type {\n",
       "        vertical-align: middle;\n",
       "    }\n",
       "\n",
       "    .dataframe tbody tr th {\n",
       "        vertical-align: top;\n",
       "    }\n",
       "\n",
       "    .dataframe thead th {\n",
       "        text-align: right;\n",
       "    }\n",
       "</style>\n",
       "<table border=\"1\" class=\"dataframe\">\n",
       "  <thead>\n",
       "    <tr style=\"text-align: right;\">\n",
       "      <th></th>\n",
       "      <th>user_id</th>\n",
       "      <th>item_id</th>\n",
       "      <th>target_proba</th>\n",
       "    </tr>\n",
       "  </thead>\n",
       "  <tbody>\n",
       "    <tr>\n",
       "      <th>0</th>\n",
       "      <td>2070</td>\n",
       "      <td>899624</td>\n",
       "      <td>0.872815</td>\n",
       "    </tr>\n",
       "    <tr>\n",
       "      <th>1</th>\n",
       "      <td>2070</td>\n",
       "      <td>899624</td>\n",
       "      <td>0.839333</td>\n",
       "    </tr>\n",
       "    <tr>\n",
       "      <th>2</th>\n",
       "      <td>2070</td>\n",
       "      <td>899624</td>\n",
       "      <td>0.838013</td>\n",
       "    </tr>\n",
       "    <tr>\n",
       "      <th>3</th>\n",
       "      <td>2070</td>\n",
       "      <td>899624</td>\n",
       "      <td>0.822713</td>\n",
       "    </tr>\n",
       "    <tr>\n",
       "      <th>4</th>\n",
       "      <td>2070</td>\n",
       "      <td>899624</td>\n",
       "      <td>0.803729</td>\n",
       "    </tr>\n",
       "    <tr>\n",
       "      <th>...</th>\n",
       "      <td>...</td>\n",
       "      <td>...</td>\n",
       "      <td>...</td>\n",
       "    </tr>\n",
       "    <tr>\n",
       "      <th>711022</th>\n",
       "      <td>1745</td>\n",
       "      <td>918046</td>\n",
       "      <td>0.007286</td>\n",
       "    </tr>\n",
       "    <tr>\n",
       "      <th>711023</th>\n",
       "      <td>1745</td>\n",
       "      <td>918046</td>\n",
       "      <td>0.007775</td>\n",
       "    </tr>\n",
       "    <tr>\n",
       "      <th>711024</th>\n",
       "      <td>1745</td>\n",
       "      <td>918046</td>\n",
       "      <td>0.007427</td>\n",
       "    </tr>\n",
       "    <tr>\n",
       "      <th>711025</th>\n",
       "      <td>1745</td>\n",
       "      <td>918046</td>\n",
       "      <td>0.006347</td>\n",
       "    </tr>\n",
       "    <tr>\n",
       "      <th>711026</th>\n",
       "      <td>1745</td>\n",
       "      <td>918046</td>\n",
       "      <td>0.006122</td>\n",
       "    </tr>\n",
       "  </tbody>\n",
       "</table>\n",
       "<p>711027 rows × 3 columns</p>\n",
       "</div>"
      ],
      "text/plain": [
       "        user_id  item_id  target_proba\n",
       "0          2070   899624      0.872815\n",
       "1          2070   899624      0.839333\n",
       "2          2070   899624      0.838013\n",
       "3          2070   899624      0.822713\n",
       "4          2070   899624      0.803729\n",
       "...         ...      ...           ...\n",
       "711022     1745   918046      0.007286\n",
       "711023     1745   918046      0.007775\n",
       "711024     1745   918046      0.007427\n",
       "711025     1745   918046      0.006347\n",
       "711026     1745   918046      0.006122\n",
       "\n",
       "[711027 rows x 3 columns]"
      ]
     },
     "execution_count": 231,
     "metadata": {},
     "output_type": "execute_result"
    }
   ],
   "source": [
    "df_preds"
   ]
  },
  {
   "cell_type": "code",
   "execution_count": 221,
   "metadata": {},
   "outputs": [],
   "source": [
    "def get_lvl2_rec(df_preds, user_id, N=5):\n",
    "    \"\"\"Возварщает N самых вероятных к покупке товаров для пользователся с ID = user_id\"\"\"\n",
    "    \n",
    "    df_user = df_preds.loc[df_preds['user_id']==user_id]\n",
    "    df_user.sort_values(by='target_proba', ascending=False, axis=0, inplace=True)\n",
    "    return list(df_user['item_id'])[:N]"
   ]
  },
  {
   "cell_type": "code",
   "execution_count": 222,
   "metadata": {},
   "outputs": [
    {
     "name": "stderr",
     "output_type": "stream",
     "text": [
      "<ipython-input-221-3feca3492a56>:5: SettingWithCopyWarning: \n",
      "A value is trying to be set on a copy of a slice from a DataFrame\n",
      "\n",
      "See the caveats in the documentation: https://pandas.pydata.org/pandas-docs/stable/user_guide/indexing.html#returning-a-view-versus-a-copy\n",
      "  df_user.sort_values(by='target_proba', ascending=False, axis=0, inplace=True)\n"
     ]
    },
    {
     "data": {
      "text/plain": [
       "[916122, 916122, 916122, 916122, 916122]"
      ]
     },
     "execution_count": 222,
     "metadata": {},
     "output_type": "execute_result"
    }
   ],
   "source": [
    "get_lvl2_rec(df_preds, 2070)"
   ]
  },
  {
   "cell_type": "code",
   "execution_count": 223,
   "metadata": {},
   "outputs": [],
   "source": [
    "def get_lvl2_rec_all(df_preds, N=5):\n",
    "    rec = []\n",
    "    for x in set(df_preds['user_id']):\n",
    "        rec.append(get_lvl2_rec(df_preds, x, N=N))\n",
    "    rec_series = pd.Series(rec)\n",
    "    return rec_series"
   ]
  },
  {
   "cell_type": "code",
   "execution_count": null,
   "metadata": {},
   "outputs": [],
   "source": [
    "result['rec_2_test'] = get_lvl2_rec_all(df_preds, N=5)"
   ]
  },
  {
   "cell_type": "code",
   "execution_count": 225,
   "metadata": {
    "scrolled": true
   },
   "outputs": [
    {
     "data": {
      "text/html": [
       "<div>\n",
       "<style scoped>\n",
       "    .dataframe tbody tr th:only-of-type {\n",
       "        vertical-align: middle;\n",
       "    }\n",
       "\n",
       "    .dataframe tbody tr th {\n",
       "        vertical-align: top;\n",
       "    }\n",
       "\n",
       "    .dataframe thead th {\n",
       "        text-align: right;\n",
       "    }\n",
       "</style>\n",
       "<table border=\"1\" class=\"dataframe\">\n",
       "  <thead>\n",
       "    <tr style=\"text-align: right;\">\n",
       "      <th></th>\n",
       "      <th>user_id</th>\n",
       "      <th>actual</th>\n",
       "      <th>rec_1</th>\n",
       "      <th>rec_2_test</th>\n",
       "    </tr>\n",
       "  </thead>\n",
       "  <tbody>\n",
       "    <tr>\n",
       "      <th>0</th>\n",
       "      <td>1</td>\n",
       "      <td>[853529, 865456, 867607, 872137, 874905, 87524...</td>\n",
       "      <td>[1135983, 856942, 885290, 959455, 5566472]</td>\n",
       "      <td>[856942, 856942, 856942, 856942, 856942]</td>\n",
       "    </tr>\n",
       "    <tr>\n",
       "      <th>1</th>\n",
       "      <td>2</td>\n",
       "      <td>[15830248, 838136, 839656, 861272, 866211, 870...</td>\n",
       "      <td>[1029743, 866211, 916122, 5569230, 844179]</td>\n",
       "      <td>[1106523, 1029743, 866211, 1081177, 916122]</td>\n",
       "    </tr>\n",
       "    <tr>\n",
       "      <th>2</th>\n",
       "      <td>4</td>\n",
       "      <td>[883932, 970760, 1035676, 1055863, 1097610, 67...</td>\n",
       "      <td>[5568378, 1116020, 1137346, 8090521, 907631]</td>\n",
       "      <td>[1029743, 891423, 831063, 9881593, 1075368]</td>\n",
       "    </tr>\n",
       "    <tr>\n",
       "      <th>3</th>\n",
       "      <td>6</td>\n",
       "      <td>[1024306, 1102949, 6548453, 835394, 940804, 96...</td>\n",
       "      <td>[854852, 896613, 871611, 878996, 965267]</td>\n",
       "      <td>[1082185, 1082185, 1024306, 1024306, 1024306]</td>\n",
       "    </tr>\n",
       "    <tr>\n",
       "      <th>4</th>\n",
       "      <td>7</td>\n",
       "      <td>[836281, 843306, 845294, 914190, 920456, 93886...</td>\n",
       "      <td>[839419, 912451, 8273950, 1067779, 8273833]</td>\n",
       "      <td>[1126899, 1126899, 1126899, 1126899, 1126899]</td>\n",
       "    </tr>\n",
       "  </tbody>\n",
       "</table>\n",
       "</div>"
      ],
      "text/plain": [
       "   user_id                                             actual  \\\n",
       "0        1  [853529, 865456, 867607, 872137, 874905, 87524...   \n",
       "1        2  [15830248, 838136, 839656, 861272, 866211, 870...   \n",
       "2        4  [883932, 970760, 1035676, 1055863, 1097610, 67...   \n",
       "3        6  [1024306, 1102949, 6548453, 835394, 940804, 96...   \n",
       "4        7  [836281, 843306, 845294, 914190, 920456, 93886...   \n",
       "\n",
       "                                          rec_1  \\\n",
       "0    [1135983, 856942, 885290, 959455, 5566472]   \n",
       "1    [1029743, 866211, 916122, 5569230, 844179]   \n",
       "2  [5568378, 1116020, 1137346, 8090521, 907631]   \n",
       "3      [854852, 896613, 871611, 878996, 965267]   \n",
       "4   [839419, 912451, 8273950, 1067779, 8273833]   \n",
       "\n",
       "                                      rec_2_test  \n",
       "0       [856942, 856942, 856942, 856942, 856942]  \n",
       "1    [1106523, 1029743, 866211, 1081177, 916122]  \n",
       "2    [1029743, 891423, 831063, 9881593, 1075368]  \n",
       "3  [1082185, 1082185, 1024306, 1024306, 1024306]  \n",
       "4  [1126899, 1126899, 1126899, 1126899, 1126899]  "
      ]
     },
     "execution_count": 225,
     "metadata": {},
     "output_type": "execute_result"
    }
   ],
   "source": [
    "result.head()"
   ]
  },
  {
   "cell_type": "code",
   "execution_count": 226,
   "metadata": {},
   "outputs": [],
   "source": [
    "#?precision_at_k 0.011 mix_lvl1\n",
    "#precision_at_k 0.075 mix_lvl1"
   ]
  },
  {
   "cell_type": "code",
   "execution_count": 230,
   "metadata": {},
   "outputs": [
    {
     "data": {
      "text/plain": [
       "0.06815434681543482"
      ]
     },
     "execution_count": 230,
     "metadata": {},
     "output_type": "execute_result"
    }
   ],
   "source": [
    "result.apply(lambda row: precision_at_k(row['rec_2_test'], row['actual'], k=50), axis=1).mean()"
   ]
  },
  {
   "cell_type": "markdown",
   "metadata": {},
   "source": [
    "# Не нужно"
   ]
  },
  {
   "cell_type": "markdown",
   "metadata": {},
   "source": [
    "## Предобработка данных из статьи\n",
    "https://mlexplained.com/2019/05/27/learning-to-rank-explained-with-code/"
   ]
  },
  {
   "cell_type": "code",
   "execution_count": null,
   "metadata": {},
   "outputs": [],
   "source": [
    "def save_data(group_data,output_feature,output_group):\n",
    "    if len(group_data) == 0:\n",
    "        return\n",
    "\n",
    "    output_group.write(str(len(group_data))+\"\\n\")\n",
    "    for data in group_data:\n",
    "        # only include nonzero features\n",
    "        feats = [ p for p in data[2:] if float(p.split(':')[1]) != 0.0 ]        \n",
    "        output_feature.write(data[0] + \" \" + \" \".join(feats) + \"\\n\")"
   ]
  },
  {
   "cell_type": "code",
   "execution_count": null,
   "metadata": {},
   "outputs": [],
   "source": [
    "path_ = 'MQ2008/Fold1/train.txt'\n",
    "fi = open(path_)\n",
    "output_feature = open('o_f.txt', \"w\")\n",
    "output_group = open('o_g.txt', \"w\")\n",
    "\n",
    "group_data = []\n",
    "group = \"\"\n",
    "for line in fi:\n",
    "    if not line:\n",
    "        break\n",
    "    if \"#\" in line:\n",
    "        line = line[:line.index(\"#\")]\n",
    "    splits = line.strip().split(\" \")\n",
    "    if splits[1] != group:\n",
    "        save_data(group_data,output_feature,output_group)\n",
    "        group_data = []\n",
    "    group = splits[1]\n",
    "    group_data.append(splits)\n",
    "\n",
    "save_data(group_data,output_feature,output_group)"
   ]
  }
 ],
 "metadata": {
  "kernelspec": {
   "display_name": "Python 3 (ipykernel)",
   "language": "python",
   "name": "python3"
  },
  "language_info": {
   "codemirror_mode": {
    "name": "ipython",
    "version": 3
   },
   "file_extension": ".py",
   "mimetype": "text/x-python",
   "name": "python",
   "nbconvert_exporter": "python",
   "pygments_lexer": "ipython3",
   "version": "3.9.12"
  }
 },
 "nbformat": 4,
 "nbformat_minor": 2
}
